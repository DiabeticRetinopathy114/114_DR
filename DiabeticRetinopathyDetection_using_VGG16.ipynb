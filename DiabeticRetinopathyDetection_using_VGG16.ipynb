{
  "metadata": {
    "kernelspec": {
      "language": "python",
      "display_name": "Python 3",
      "name": "python3"
    },
    "language_info": {
      "name": "python",
      "version": "3.10.13",
      "mimetype": "text/x-python",
      "codemirror_mode": {
        "name": "ipython",
        "version": 3
      },
      "pygments_lexer": "ipython3",
      "nbconvert_exporter": "python",
      "file_extension": ".py"
    },
    "kaggle": {
      "accelerator": "none",
      "dataSources": [
        {
          "sourceId": 4104,
          "databundleVersionId": 46661,
          "sourceType": "competition"
        },
        {
          "sourceId": 265751,
          "sourceType": "datasetVersion",
          "datasetId": 110097
        }
      ],
      "dockerImageVersionId": 30732,
      "isInternetEnabled": true,
      "language": "python",
      "sourceType": "notebook",
      "isGpuEnabled": false
    },
    "colab": {
      "name": "DiabeticRetinopathyDetection-using VGG16",
      "provenance": [],
      "include_colab_link": true
    }
  },
  "nbformat_minor": 0,
  "nbformat": 4,
  "cells": [
    {
      "cell_type": "markdown",
      "metadata": {
        "id": "view-in-github",
        "colab_type": "text"
      },
      "source": [
        "<a href=\"https://colab.research.google.com/github/DiabeticRetinopathy114/114_DR/blob/main/DiabeticRetinopathyDetection_using_VGG16.ipynb\" target=\"_parent\"><img src=\"https://colab.research.google.com/assets/colab-badge.svg\" alt=\"Open In Colab\"/></a>"
      ]
    },
    {
      "source": [
        "# IMPORTANT: SOME KAGGLE DATA SOURCES ARE PRIVATE\n",
        "# RUN THIS CELL IN ORDER TO IMPORT YOUR KAGGLE DATA SOURCES.\n",
        "import kagglehub\n",
        "kagglehub.login()\n"
      ],
      "metadata": {
        "id": "dBoNF1lA5_Ok"
      },
      "cell_type": "code",
      "outputs": [],
      "execution_count": null
    },
    {
      "source": [
        "# IMPORTANT: RUN THIS CELL IN ORDER TO IMPORT YOUR KAGGLE DATA SOURCES,\n",
        "# THEN FEEL FREE TO DELETE THIS CELL.\n",
        "# NOTE: THIS NOTEBOOK ENVIRONMENT DIFFERS FROM KAGGLE'S PYTHON\n",
        "# ENVIRONMENT SO THERE MAY BE MISSING LIBRARIES USED BY YOUR\n",
        "# NOTEBOOK.\n",
        "\n",
        "diabetic_retinopathy_detection_path = kagglehub.competition_download('diabetic-retinopathy-detection')\n",
        "sohaibanwaar1203_prepossessed_arrays_of_binary_data_path = kagglehub.dataset_download('sohaibanwaar1203/prepossessed-arrays-of-binary-data')\n",
        "\n",
        "print('Data source import complete.')\n"
      ],
      "metadata": {
        "id": "RLagKEjr5_Om"
      },
      "cell_type": "code",
      "outputs": [],
      "execution_count": null
    },
    {
      "cell_type": "code",
      "source": [
        "import numpy as np\n",
        "import pandas as pd\n",
        "import os\n",
        "\n",
        "input_dir = '/kaggle/input'\n",
        "file_paths = []\n",
        "\n",
        "for dirname, _, filenames in os.walk(input_dir):\n",
        "    for filename in filenames:\n",
        "        file_path = os.path.join(dirname, filename)\n",
        "        file_paths.append(file_path)\n",
        "\n",
        "print(\"Total files found:\", len(file_paths))\n",
        "print(\"files:\", file_paths[:])\n",
        "\n",
        "expected_files = ['trainLabels.csv.zip', 'sampleSubmission.csv.zip']\n",
        "for ef in expected_files:\n",
        "    if not any(ef in path for path in file_paths):\n",
        "        print(f\"Warning: Expected file {ef} not found!\")\n"
      ],
      "metadata": {
        "_uuid": "8f2839f25d086af736a60e9eeb907d3b93b6e0e5",
        "_cell_guid": "b1076dfc-b9ad-4769-8c92-a6c4dae69d19",
        "execution": {
          "iopub.status.busy": "2025-04-08T08:43:01.255846Z",
          "iopub.execute_input": "2025-04-08T08:43:01.256568Z",
          "iopub.status.idle": "2025-04-08T08:43:01.275386Z",
          "shell.execute_reply.started": "2025-04-08T08:43:01.256516Z",
          "shell.execute_reply": "2025-04-08T08:43:01.273753Z"
        },
        "trusted": true,
        "id": "oGIeGIWY5_On"
      },
      "outputs": [],
      "execution_count": null
    },
    {
      "cell_type": "code",
      "source": [
        "import numpy as np  # 用於數值計算\n",
        "import matplotlib.pyplot as plt  # 用於資料視覺化\n",
        "import seaborn as sns  # 用於強化視覺化的繪圖風格\n",
        "import tensorflow as tf  # TensorFlow 深度學習框架\n",
        "from glob import glob  # 用於查找文件路徑\n",
        "from skimage.io import imread  # 用於圖像讀取\n",
        "\n",
        "from tensorflow.keras.applications import EfficientNetB0  # 預訓練模型\n",
        "from tensorflow.keras.optimizers import Adam  # 優化器\n",
        "from tensorflow.keras.losses import SparseCategoricalCrossentropy  # 損失函數\n",
        "from tensorflow.keras.layers import Dense, Flatten, Dropout  # 常用層\n",
        "from tensorflow.keras.models import Model  # 模型\n",
        "from tensorflow.keras.callbacks import ReduceLROnPlateau, EarlyStopping  # 訓練回調\n",
        "from tensorflow.keras.preprocessing.image import ImageDataGenerator  # 圖像生成工具\n",
        "from tensorflow.keras.utils import to_categorical  # 類別處理工具\n",
        "from sklearn.metrics import classification_report, confusion_matrix  # 評估工具\n",
        "from sklearn.model_selection import train_test_split  # 資料分割工具\n",
        "\n",
        "import warnings\n",
        "warnings.filterwarnings('ignore', category=FutureWarning)  # 只忽略FutureWarning\n",
        "\n",
        "print(\"All necessary modules have been successfully imported!\")\n"
      ],
      "metadata": {
        "execution": {
          "iopub.status.busy": "2025-04-08T08:43:01.277532Z",
          "iopub.execute_input": "2025-04-08T08:43:01.278116Z",
          "iopub.status.idle": "2025-04-08T08:43:01.292065Z",
          "shell.execute_reply.started": "2025-04-08T08:43:01.278066Z",
          "shell.execute_reply": "2025-04-08T08:43:01.290283Z"
        },
        "trusted": true,
        "id": "k3oh4V915_Oo"
      },
      "outputs": [],
      "execution_count": null
    },
    {
      "cell_type": "code",
      "source": [
        "import itertools\n",
        "def plot_confusion_matrix(cm, classes,\n",
        "                          normalize=False,\n",
        "                          title='Confusion matrix',\n",
        "                          cmap=plt.cm.Blues):\n",
        "    \"\"\"\n",
        "    This function prints and plots the confusion matrix.\n",
        "    Normalization can be applied by setting `normalize=True`.\n",
        "    \"\"\"\n",
        "    plt.figure(figsize = (6,6))\n",
        "    plt.imshow(cm, interpolation='nearest', cmap=cmap)\n",
        "    plt.title(title)\n",
        "    plt.colorbar()\n",
        "    tick_marks = np.arange(len(classes))\n",
        "    plt.xticks(tick_marks, classes, rotation=90)\n",
        "    plt.yticks(tick_marks, classes)\n",
        "    if normalize:\n",
        "        cm = cm.astype('float') / cm.sum(axis=1)[:, np.newaxis]\n",
        "\n",
        "    thresh = cm.max() / 2.\n",
        "    cm = np.round(cm,2)\n",
        "    for i, j in itertools.product(range(cm.shape[0]), range(cm.shape[1])):\n",
        "        plt.text(j, i, cm[i, j],\n",
        "                 horizontalalignment=\"center\",\n",
        "                 color=\"white\" if cm[i, j] > thresh else \"black\")\n",
        "    plt.tight_layout()\n",
        "    plt.ylabel('True label')\n",
        "    plt.xlabel('Predicted label')\n",
        "    plt.show()"
      ],
      "metadata": {
        "execution": {
          "iopub.status.busy": "2025-04-08T08:43:01.294191Z",
          "iopub.execute_input": "2025-04-08T08:43:01.295591Z",
          "iopub.status.idle": "2025-04-08T08:43:01.317599Z",
          "shell.execute_reply.started": "2025-04-08T08:43:01.295527Z",
          "shell.execute_reply": "2025-04-08T08:43:01.316046Z"
        },
        "trusted": true,
        "id": "OJBxgZd85_Op"
      },
      "outputs": [],
      "execution_count": null
    },
    {
      "cell_type": "code",
      "source": [
        "# Loading data\n",
        "info = pd.read_csv(\"../input/prepossessed-arrays-of-binary-data/1000_Binary Dataframe\")\n",
        "info = info.drop('Unnamed: 0', axis=1)\n",
        "Binary_90 = np.load('../input/prepossessed-arrays-of-binary-data/1000_Binary_images_data_90.npz')\n",
        "X_90 = Binary_90['a']\n",
        "Binary_128 = np.load('../input/prepossessed-arrays-of-binary-data/1000_Binary_images_data_128.npz')\n",
        "X_128 = Binary_128['a']\n",
        "Binary_264 = np.load('../input/prepossessed-arrays-of-binary-data/1000_Binary_images_data_264.npz')\n",
        "X_264 = Binary_264['a']\n",
        "y = info['level'].values\n",
        "\n",
        "# Reshape images\n",
        "X_90 = X_90.reshape(1000, 90, 90, 3)\n",
        "X_128 = X_128.reshape(1000, 128, 128, 3)\n",
        "X_264 = X_264.reshape(1000, 264, 264, 3)\n",
        "\n",
        "# Display images\n",
        "plt.title(\"90*90*3 Image\")\n",
        "plt.imshow(X_90[1])\n",
        "plt.show()\n",
        "\n",
        "plt.title(\"128*128*3 Image\")\n",
        "plt.imshow(X_128[1])\n",
        "plt.show()\n",
        "\n",
        "plt.title(\"264*264*3 Image\")\n",
        "plt.imshow(X_264[1])\n",
        "plt.show()"
      ],
      "metadata": {
        "execution": {
          "iopub.status.busy": "2025-04-08T08:43:01.320637Z",
          "iopub.execute_input": "2025-04-08T08:43:01.321229Z",
          "iopub.status.idle": "2025-04-08T08:43:17.275149Z",
          "shell.execute_reply.started": "2025-04-08T08:43:01.321189Z",
          "shell.execute_reply": "2025-04-08T08:43:17.27392Z"
        },
        "trusted": true,
        "id": "hedibj8U5_Op"
      },
      "outputs": [],
      "execution_count": null
    },
    {
      "cell_type": "code",
      "source": [
        "# Prepare data for training\n",
        "X = np.array(X_264)\n",
        "Y = np.array(y)\n",
        "Y = to_categorical(Y, 5)\n",
        "x_train, x_test1, y_train, y_test1 = train_test_split(X, Y, test_size=0.4, random_state=42)\n",
        "x_val, x_test, y_val, y_test = train_test_split(x_test1, y_test1, test_size=0.5, random_state=42)\n",
        "\n",
        "print(f\"Training set size: {len(x_train)}\")\n",
        "print(f\"Validation set size: {len(x_val)}\")\n",
        "print(f\"Test set size: {len(x_test)}\")"
      ],
      "metadata": {
        "execution": {
          "iopub.status.busy": "2025-04-08T08:43:17.276684Z",
          "iopub.execute_input": "2025-04-08T08:43:17.277143Z",
          "iopub.status.idle": "2025-04-08T08:43:19.611747Z",
          "shell.execute_reply.started": "2025-04-08T08:43:17.277096Z",
          "shell.execute_reply": "2025-04-08T08:43:19.610594Z"
        },
        "trusted": true,
        "id": "yIOq7e6z5_Oq"
      },
      "outputs": [],
      "execution_count": null
    },
    {
      "cell_type": "code",
      "source": [
        "# Data augmentation\n",
        "train_datagen = ImageDataGenerator(\n",
        "    rescale=1./255,\n",
        "    rotation_range=20,\n",
        "    zoom_range=0.15,\n",
        "    width_shift_range=0.2,\n",
        "    height_shift_range=0.2,\n",
        "    shear_range=0.15,\n",
        "    horizontal_flip=True,\n",
        "    fill_mode=\"nearest\"\n",
        ")\n",
        "\n",
        "val_datagen = ImageDataGenerator(rescale=1./255)"
      ],
      "metadata": {
        "execution": {
          "iopub.status.busy": "2025-04-08T08:43:19.61336Z",
          "iopub.execute_input": "2025-04-08T08:43:19.613683Z",
          "iopub.status.idle": "2025-04-08T08:43:19.619722Z",
          "shell.execute_reply.started": "2025-04-08T08:43:19.613657Z",
          "shell.execute_reply": "2025-04-08T08:43:19.618595Z"
        },
        "trusted": true,
        "id": "KC0KMMtj5_Oq"
      },
      "outputs": [],
      "execution_count": null
    },
    {
      "cell_type": "code",
      "source": [
        "# Callbacks\n",
        "reduce_lr = ReduceLROnPlateau(\n",
        "    monitor=\"val_loss\",\n",
        "    factor=0.1,\n",
        "    patience=2,\n",
        "    mode=\"auto\",\n",
        "    min_delta=0.0001,\n",
        "    cooldown=0,\n",
        "    min_lr=0.001\n",
        ")\n",
        "\n",
        "early_stopping = EarlyStopping(\n",
        "    monitor='val_loss',\n",
        "    patience=5,\n",
        "    restore_best_weights=True\n",
        ")\n",
        "\n",
        "callbacks = [reduce_lr, early_stopping]"
      ],
      "metadata": {
        "execution": {
          "iopub.status.busy": "2025-04-08T08:43:19.622678Z",
          "iopub.execute_input": "2025-04-08T08:43:19.623185Z",
          "iopub.status.idle": "2025-04-08T08:43:19.632543Z",
          "shell.execute_reply.started": "2025-04-08T08:43:19.623113Z",
          "shell.execute_reply": "2025-04-08T08:43:19.631375Z"
        },
        "trusted": true,
        "id": "qtAkKTr65_Or"
      },
      "outputs": [],
      "execution_count": null
    },
    {
      "cell_type": "code",
      "source": [
        "# Model with transfer learning (VGG16)\n",
        "from tensorflow.keras.applications import VGG16\n",
        "from tensorflow.keras.layers import Flatten, Dense, Dropout, Input\n",
        "from tensorflow.keras.models import Model\n",
        "from tensorflow.keras.optimizers import Adam\n",
        "from tensorflow.keras.regularizers import l2\n",
        "from sklearn import metrics\n",
        "# 使用 Functional API 來構建模型\n",
        "input_shape = (264, 264, 3)\n",
        "inputs = Input(shape=input_shape)\n",
        "\n",
        "# 加載預訓練的 VGG16 模型，不包括頂部的全連接層\n",
        "base_model = VGG16(weights='imagenet', include_top=False, input_tensor=inputs)\n",
        "\n",
        "# 凍結預訓練模型的所有層\n",
        "for layer in base_model.layers:\n",
        "    layer.trainable = False\n",
        "\n",
        "# 添加自定義的全連接層\n",
        "x = Flatten()(base_model.output)\n",
        "x = Dense(256, activation='relu', kernel_regularizer=l2(0.01))(x)\n",
        "x = Dropout(0.5)(x)\n",
        "outputs = Dense(5, activation='softmax')(x)\n",
        "\n",
        "# 定義模型\n",
        "model = Model(inputs, outputs)\n",
        "\n",
        "# 編譯模型\n",
        "model.compile(optimizer=Adam(learning_rate=0.0001), loss='categorical_crossentropy', metrics=['accuracy', 'AUC'])\n",
        "\n",
        "# 顯示模型結構\n",
        "model.summary()\n"
      ],
      "metadata": {
        "execution": {
          "iopub.status.busy": "2025-04-08T08:43:19.633934Z",
          "iopub.execute_input": "2025-04-08T08:43:19.634264Z",
          "iopub.status.idle": "2025-04-08T08:43:20.17583Z",
          "shell.execute_reply.started": "2025-04-08T08:43:19.634239Z",
          "shell.execute_reply": "2025-04-08T08:43:20.174694Z"
        },
        "trusted": true,
        "id": "R0SQ0hLa5_Or"
      },
      "outputs": [],
      "execution_count": null
    },
    {
      "cell_type": "code",
      "source": [
        "# Train the model\n",
        "\n",
        "history = model.fit(\n",
        "    train_datagen.flow(x_train, y_train, batch_size=8),\n",
        "    validation_data=val_datagen.flow(x_val, y_val),\n",
        "    epochs=20,\n",
        "    callbacks=callbacks,\n",
        ")\n",
        "\n",
        "# Evaluate the model\n",
        "evaluation = model.evaluate(x_test, y_test)\n",
        "print(f'Test Accuracy: {evaluation[1]*100:.2f}%')\n",
        "\n",
        "# Predictions and report\n",
        "y_test_labels = np.argmax(y_test, axis=1)\n",
        "y_pred_labels = np.argmax(model.predict(x_test), axis=-1)\n",
        "\n",
        "print(\"Performance Report:\")\n",
        "print('Accuracy score:', metrics.accuracy_score(y_test_labels, y_pred_labels))\n",
        "print('Precision score:', metrics.precision_score(y_test_labels, y_pred_labels, average='weighted'))\n",
        "print('Recall score:', metrics.recall_score(y_test_labels, y_pred_labels, average='weighted'))\n",
        "print('F1 Score:', metrics.f1_score(y_test_labels, y_pred_labels, average='weighted'))\n",
        "print('Cohen Kappa Score:', metrics.cohen_kappa_score(y_test_labels, y_pred_labels))   -\n",
        "print('\\t\\tClassification Report:\\n', classification_report(y_test_labels, y_pred_labels))"
      ],
      "metadata": {
        "execution": {
          "iopub.status.busy": "2025-04-08T08:43:20.177363Z",
          "iopub.execute_input": "2025-04-08T08:43:20.177708Z",
          "iopub.status.idle": "2025-04-08T10:36:39.417825Z",
          "shell.execute_reply.started": "2025-04-08T08:43:20.177679Z",
          "shell.execute_reply": "2025-04-08T10:36:39.415868Z"
        },
        "trusted": true,
        "id": "J5H1e_UC5_Os"
      },
      "outputs": [],
      "execution_count": null
    }
  ]
}