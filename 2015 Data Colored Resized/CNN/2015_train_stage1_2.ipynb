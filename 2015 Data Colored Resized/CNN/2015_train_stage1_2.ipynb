{
  "metadata": {
    "kernelspec": {
      "language": "python",
      "display_name": "Python 3",
      "name": "python3"
    },
    "language_info": {
      "name": "python",
      "version": "3.11.11",
      "mimetype": "text/x-python",
      "codemirror_mode": {
        "name": "ipython",
        "version": 3
      },
      "pygments_lexer": "ipython3",
      "nbconvert_exporter": "python",
      "file_extension": ".py"
    },
    "kaggle": {
      "accelerator": "gpu",
      "dataSources": [
        {
          "sourceId": 988278,
          "sourceType": "datasetVersion",
          "datasetId": 541202
        }
      ],
      "dockerImageVersionId": 31041,
      "isInternetEnabled": true,
      "language": "python",
      "sourceType": "notebook",
      "isGpuEnabled": true
    },
    "colab": {
      "name": "2015-VGG-2",
      "provenance": [],
      "include_colab_link": true
    }
  },
  "nbformat_minor": 0,
  "nbformat": 4,
  "cells": [
    {
      "cell_type": "markdown",
      "metadata": {
        "id": "view-in-github",
        "colab_type": "text"
      },
      "source": [
        "<a href=\"https://colab.research.google.com/github/DiabeticRetinopathy114/114_DR/blob/main/2015%20Data%20Colored%20Resized/CNN/2015_train_stage1_2.ipynb\" target=\"_parent\"><img src=\"https://colab.research.google.com/assets/colab-badge.svg\" alt=\"Open In Colab\"/></a>"
      ]
    },
    {
      "source": [
        "# IMPORTANT: RUN THIS CELL IN ORDER TO IMPORT YOUR KAGGLE DATA SOURCES,\n",
        "# THEN FEEL FREE TO DELETE THIS CELL.\n",
        "# NOTE: THIS NOTEBOOK ENVIRONMENT DIFFERS FROM KAGGLE'S PYTHON\n",
        "# ENVIRONMENT SO THERE MAY BE MISSING LIBRARIES USED BY YOUR\n",
        "# NOTEBOOK.\n",
        "import kagglehub\n",
        "sovitrath_diabetic_retinopathy_2015_data_colored_resized_path = kagglehub.dataset_download('sovitrath/diabetic-retinopathy-2015-data-colored-resized')\n",
        "\n",
        "print('Data source import complete.')\n"
      ],
      "metadata": {
        "id": "otWeW8co8F3W"
      },
      "cell_type": "code",
      "outputs": [],
      "execution_count": null
    },
    {
      "cell_type": "code",
      "source": [
        "from tensorflow import lite\n",
        "import tensorflow as tf\n",
        "from tensorflow import keras\n",
        "from tensorflow.keras import layers\n",
        "import numpy as np\n",
        "import pandas as pd\n",
        "import random, os\n",
        "import shutil\n",
        "import matplotlib.pyplot as plt\n",
        "from matplotlib.image import imread\n",
        "from tensorflow.keras.preprocessing.image import ImageDataGenerator\n",
        "from tensorflow.keras.metrics import categorical_accuracy\n",
        "from sklearn.model_selection import train_test_split"
      ],
      "metadata": {
        "_uuid": "8f2839f25d086af736a60e9eeb907d3b93b6e0e5",
        "_cell_guid": "b1076dfc-b9ad-4769-8c92-a6c4dae69d19",
        "trusted": true,
        "execution": {
          "iopub.status.busy": "2025-05-14T08:43:30.776504Z",
          "iopub.execute_input": "2025-05-14T08:43:30.776886Z",
          "iopub.status.idle": "2025-05-14T08:43:45.449712Z",
          "shell.execute_reply.started": "2025-05-14T08:43:30.776859Z",
          "shell.execute_reply": "2025-05-14T08:43:45.44915Z"
        },
        "id": "Y0xsbRXx8F3c",
        "outputId": "01dc076f-bc7f-474c-d262-b8856f416750"
      },
      "outputs": [
        {
          "name": "stderr",
          "text": "2025-05-14 08:43:32.788539: E external/local_xla/xla/stream_executor/cuda/cuda_fft.cc:477] Unable to register cuFFT factory: Attempting to register factory for plugin cuFFT when one has already been registered\nWARNING: All log messages before absl::InitializeLog() is called are written to STDERR\nE0000 00:00:1747212213.012903      77 cuda_dnn.cc:8310] Unable to register cuDNN factory: Attempting to register factory for plugin cuDNN when one has already been registered\nE0000 00:00:1747212213.088210      77 cuda_blas.cc:1418] Unable to register cuBLAS factory: Attempting to register factory for plugin cuBLAS when one has already been registered\n",
          "output_type": "stream"
        }
      ],
      "execution_count": null
    },
    {
      "cell_type": "code",
      "source": [
        "# Add an additional column, mapping to the type\n",
        "df = pd.read_csv(r'../input/diabetic-retinopathy-2015-data-colored-resized/trainLabels.csv')\n",
        "\n",
        "diagnosis_dict_binary = {\n",
        "    0: 'No_DR',\n",
        "    1: 'DR',\n",
        "    2: 'DR',\n",
        "    3: 'DR',\n",
        "    4: 'DR'\n",
        "}\n",
        "\n",
        "diagnosis_dict = {\n",
        "    0: 'No_DR',\n",
        "    1: 'Mild',\n",
        "    2: 'Moderate',\n",
        "    3: 'Severe',\n",
        "    4: 'Proliferate_DR',\n",
        "}\n",
        "\n",
        "\n",
        "df['binary_type'] =  df['level'].map(diagnosis_dict_binary.get)\n",
        "df['type'] = df['level'].map(diagnosis_dict.get)\n",
        "df.head()"
      ],
      "metadata": {
        "trusted": true,
        "execution": {
          "iopub.status.busy": "2025-05-14T08:43:45.450954Z",
          "iopub.execute_input": "2025-05-14T08:43:45.451481Z",
          "iopub.status.idle": "2025-05-14T08:43:45.516617Z",
          "shell.execute_reply.started": "2025-05-14T08:43:45.451457Z",
          "shell.execute_reply": "2025-05-14T08:43:45.515928Z"
        },
        "id": "oxJ-sXBr8F3d",
        "outputId": "646c57d4-3813-4f94-cdf9-b10e369732f8"
      },
      "outputs": [
        {
          "execution_count": 2,
          "output_type": "execute_result",
          "data": {
            "text/plain": "      image  level binary_type   type\n0   10_left      0       No_DR  No_DR\n1  10_right      0       No_DR  No_DR\n2   13_left      0       No_DR  No_DR\n3  13_right      0       No_DR  No_DR\n4   15_left      1          DR   Mild",
            "text/html": "<div>\n<style scoped>\n    .dataframe tbody tr th:only-of-type {\n        vertical-align: middle;\n    }\n\n    .dataframe tbody tr th {\n        vertical-align: top;\n    }\n\n    .dataframe thead th {\n        text-align: right;\n    }\n</style>\n<table border=\"1\" class=\"dataframe\">\n  <thead>\n    <tr style=\"text-align: right;\">\n      <th></th>\n      <th>image</th>\n      <th>level</th>\n      <th>binary_type</th>\n      <th>type</th>\n    </tr>\n  </thead>\n  <tbody>\n    <tr>\n      <th>0</th>\n      <td>10_left</td>\n      <td>0</td>\n      <td>No_DR</td>\n      <td>No_DR</td>\n    </tr>\n    <tr>\n      <th>1</th>\n      <td>10_right</td>\n      <td>0</td>\n      <td>No_DR</td>\n      <td>No_DR</td>\n    </tr>\n    <tr>\n      <th>2</th>\n      <td>13_left</td>\n      <td>0</td>\n      <td>No_DR</td>\n      <td>No_DR</td>\n    </tr>\n    <tr>\n      <th>3</th>\n      <td>13_right</td>\n      <td>0</td>\n      <td>No_DR</td>\n      <td>No_DR</td>\n    </tr>\n    <tr>\n      <th>4</th>\n      <td>15_left</td>\n      <td>1</td>\n      <td>DR</td>\n      <td>Mild</td>\n    </tr>\n  </tbody>\n</table>\n</div>"
          },
          "metadata": {}
        }
      ],
      "execution_count": null
    },
    {
      "cell_type": "markdown",
      "source": [
        "**資料前處理：建立兩個資料集**"
      ],
      "metadata": {
        "id": "Wdyfphr98F3e"
      }
    },
    {
      "cell_type": "code",
      "source": [
        "# 假設 train_df 是包含圖像路徑與原始標籤的 DataFrame\n",
        "df['binary_type'] = df['level'].apply(lambda x: 'no_DR' if x == 0 else 'DR')\n",
        "df['str_label'] = df['type'].astype(str)  # 方便分類用"
      ],
      "metadata": {
        "trusted": true,
        "execution": {
          "iopub.status.busy": "2025-05-14T08:43:45.517385Z",
          "iopub.execute_input": "2025-05-14T08:43:45.517567Z",
          "iopub.status.idle": "2025-05-14T08:43:45.527509Z",
          "shell.execute_reply.started": "2025-05-14T08:43:45.517552Z",
          "shell.execute_reply": "2025-05-14T08:43:45.526916Z"
        },
        "id": "fRfpaUxl8F3g"
      },
      "outputs": [],
      "execution_count": null
    },
    {
      "cell_type": "code",
      "source": [
        "# 拆分成兩個資料集\n",
        "df_stage1 = df.copy()\n",
        "df_stage2 = df[df['level'] != 0].copy()\n",
        "df_stage2['stage2_label'] = df_stage2['level'] - 1\n",
        "df_stage2['image_path'] = df_stage2.apply(lambda row: f\"{row['type']}/{row['image']}.png\", axis=1)  # 將 1~4 → 0~3（方便分類）"
      ],
      "metadata": {
        "trusted": true,
        "execution": {
          "iopub.status.busy": "2025-05-14T08:47:16.151185Z",
          "iopub.execute_input": "2025-05-14T08:47:16.15175Z",
          "iopub.status.idle": "2025-05-14T08:47:16.225383Z",
          "shell.execute_reply.started": "2025-05-14T08:47:16.151725Z",
          "shell.execute_reply": "2025-05-14T08:47:16.224797Z"
        },
        "id": "tiUWZvyX8F3g"
      },
      "outputs": [],
      "execution_count": null
    },
    {
      "cell_type": "markdown",
      "source": [
        " **建立資料產生器（ImageDataGenerator**"
      ],
      "metadata": {
        "id": "27YyRxKn8F3h"
      }
    },
    {
      "cell_type": "code",
      "source": [
        "# --- Stage 1: 無DR vs 有DR（二元分類） ---\n",
        "\n",
        "from tensorflow.keras.preprocessing.image import ImageDataGenerator\n",
        "\n",
        "df['image_path'] = df.apply(lambda row: f\"{row['type']}/{row['image']}.png\", axis=1)\n",
        "\n",
        "datagen = ImageDataGenerator(rescale=1./255, validation_split=0.2)\n",
        "\n",
        "train_gen = datagen.flow_from_dataframe(\n",
        "    dataframe=df,\n",
        "    directory='../input/diabetic-retinopathy-2015-data-colored-resized/colored_images/colored_images',\n",
        "    x_col='image_path',\n",
        "    y_col='binary_type',  # 必須是 'no_DR' / 'DR'\n",
        "    class_mode='binary',\n",
        "    target_size=(224, 224),\n",
        "    subset='training'\n",
        ")\n",
        "\n",
        "val_gen = datagen.flow_from_dataframe(\n",
        "    dataframe=df,\n",
        "    directory='../input/diabetic-retinopathy-2015-data-colored-resized/colored_images/colored_images',\n",
        "    x_col='image_path',\n",
        "    y_col='binary_type',  # 必須是 'no_DR' / 'DR'\n",
        "    class_mode='binary',\n",
        "    target_size=(224, 224),\n",
        "    subset='validation'\n",
        ")"
      ],
      "metadata": {
        "trusted": true,
        "execution": {
          "iopub.status.busy": "2025-05-14T08:47:25.393029Z",
          "iopub.execute_input": "2025-05-14T08:47:25.393731Z",
          "iopub.status.idle": "2025-05-14T08:47:56.948094Z",
          "shell.execute_reply.started": "2025-05-14T08:47:25.393705Z",
          "shell.execute_reply": "2025-05-14T08:47:56.947232Z"
        },
        "id": "wk7Sxn9O8F3h",
        "outputId": "22a44abe-95c6-4ba0-b886-c655e009147e"
      },
      "outputs": [
        {
          "name": "stdout",
          "text": "Found 28101 validated image filenames belonging to 2 classes.\nFound 7025 validated image filenames belonging to 2 classes.\n",
          "output_type": "stream"
        }
      ],
      "execution_count": null
    },
    {
      "cell_type": "code",
      "source": [
        "import os, shutil\n",
        "\n",
        "# 假設圖片來自這個結構\n",
        "src_root = '../input/diabetic-retinopathy-2015-data-colored-resized/colored_images/colored_images'\n",
        "diagnosis_dict = {0: 'No_DR', 1: 'Mild', 2: 'Moderate', 3: 'Severe', 4: 'Proliferate_DR'}\n",
        "\n",
        "# 創建 Stage 2 資料夾\n",
        "dst_root = 'train_stage2'\n",
        "if os.path.exists(dst_root):\n",
        "    shutil.rmtree(dst_root)\n",
        "os.makedirs(dst_root)\n",
        "\n",
        "# # 過濾出 DR 圖（level ≠ 0）\n",
        "# df_stage2 = df[df['level'] != 0].copy()\n",
        "# df_stage2['stage2_label'] = df_stage2['level'] - 1\n",
        "\n",
        "# 建立子資料夾與搬圖\n",
        "for _, row in df_stage2.iterrows():\n",
        "    level = row['level']\n",
        "    class_folder = str(level - 1)  # 1~4 → 0~3\n",
        "    filename = row['image'] + '.png'\n",
        "    folder_name = diagnosis_dict[level]\n",
        "\n",
        "    srcfile = os.path.join(src_root, folder_name, filename)\n",
        "    dst_dir = os.path.join(dst_root, class_folder)\n",
        "    os.makedirs(dst_dir, exist_ok=True)\n",
        "\n",
        "    if os.path.exists(srcfile):\n",
        "        shutil.copy(srcfile, dst_dir)\n",
        "    else:\n",
        "        print(f'❌ 找不到圖片：{srcfile}')"
      ],
      "metadata": {
        "trusted": true,
        "execution": {
          "iopub.status.busy": "2025-05-14T08:52:51.637249Z",
          "iopub.execute_input": "2025-05-14T08:52:51.63752Z",
          "iopub.status.idle": "2025-05-14T08:52:59.899752Z",
          "shell.execute_reply.started": "2025-05-14T08:52:51.6375Z",
          "shell.execute_reply": "2025-05-14T08:52:59.899208Z"
        },
        "id": "1eBqgVYk8F3i"
      },
      "outputs": [],
      "execution_count": null
    },
    {
      "cell_type": "code",
      "source": [
        "# --- Stage 2: 多分類（4類） ---\n",
        "\n",
        "datagen = ImageDataGenerator(rescale=1./255, validation_split=0.2)\n",
        "\n",
        "train_stage2_gen = datagen.flow_from_directory(\n",
        "    'train_stage2',\n",
        "    target_size=(224, 224),\n",
        "    class_mode='sparse', #籤輸出為整數類別 ID（例如 0, 1, 2, 3）\n",
        "    subset='training'\n",
        ")\n",
        "\n",
        "val_stage2_gen = datagen.flow_from_directory(\n",
        "    'train_stage2',\n",
        "    target_size=(224, 224),\n",
        "    class_mode='sparse',\n",
        "    subset='validation'\n",
        ")"
      ],
      "metadata": {
        "trusted": true,
        "execution": {
          "iopub.status.busy": "2025-05-14T08:53:14.158423Z",
          "iopub.execute_input": "2025-05-14T08:53:14.158676Z",
          "iopub.status.idle": "2025-05-14T08:53:14.441895Z",
          "shell.execute_reply.started": "2025-05-14T08:53:14.158661Z",
          "shell.execute_reply": "2025-05-14T08:53:14.441183Z"
        },
        "id": "F4te--XI8F3i",
        "outputId": "a2a7823c-a4f7-4d43-f37a-60d435decc51"
      },
      "outputs": [
        {
          "name": "stdout",
          "text": "Found 7455 images belonging to 4 classes.\nFound 1861 images belonging to 4 classes.\n",
          "output_type": "stream"
        }
      ],
      "execution_count": null
    },
    {
      "cell_type": "markdown",
      "source": [
        "**第一階段模型（二元分類）**"
      ],
      "metadata": {
        "id": "ULp7WC8m8F3i"
      }
    },
    {
      "cell_type": "code",
      "source": [
        "model_stage1 = tf.keras.Sequential([\n",
        "    layers.Conv2D(16, (3,3), padding=\"same\", activation='relu', input_shape=(224,224,3)),\n",
        "    layers.MaxPooling2D(pool_size=(2,2)),\n",
        "    layers.BatchNormalization(),\n",
        "\n",
        "    layers.Conv2D(32, (3,3), padding=\"same\", dilation_rate=2, activation='relu'),\n",
        "    layers.MaxPooling2D(pool_size=(2,2)),\n",
        "    layers.BatchNormalization(),\n",
        "\n",
        "    layers.Conv2D(64, (3,3), padding=\"same\", dilation_rate=2, activation='relu'),\n",
        "    layers.MaxPooling2D(pool_size=(2,2)),\n",
        "    layers.BatchNormalization(),\n",
        "\n",
        "    layers.Flatten(),\n",
        "    layers.Dense(64, activation='relu'),\n",
        "    layers.Dropout(0.25),\n",
        "    layers.Dense(1, activation='sigmoid')\n",
        "])\n",
        "\n",
        "# model_v3.compile(optimizer=tf.keras.optimizers.Adam(lr=1e-5),\n",
        "#                  loss=tf.keras.losses.BinaryCrossentropy(),\n",
        "#                  metrics=['accuracy'])\n",
        "\n",
        "model_stage1.compile(optimizer='adam',\n",
        "                     loss='binary_crossentropy',\n",
        "                     metrics=['accuracy'])\n",
        "\n",
        "history = model_stage1.fit(train_gen,\n",
        "                 epochs=50,\n",
        "                 validation_data=val_gen)"
      ],
      "metadata": {
        "trusted": true,
        "execution": {
          "iopub.status.busy": "2025-05-14T08:53:23.084844Z",
          "iopub.execute_input": "2025-05-14T08:53:23.085594Z",
          "iopub.status.idle": "2025-05-14T10:08:29.631869Z",
          "shell.execute_reply.started": "2025-05-14T08:53:23.085569Z",
          "shell.execute_reply": "2025-05-14T10:08:29.63123Z"
        },
        "id": "QMKdyPBj8F3j",
        "outputId": "555e9930-dc6b-4651-d1c8-9cf31165c389"
      },
      "outputs": [
        {
          "name": "stderr",
          "text": "/usr/local/lib/python3.11/dist-packages/keras/src/layers/convolutional/base_conv.py:107: UserWarning: Do not pass an `input_shape`/`input_dim` argument to a layer. When using Sequential models, prefer using an `Input(shape)` object as the first layer in the model instead.\n  super().__init__(activity_regularizer=activity_regularizer, **kwargs)\nI0000 00:00:1747212805.020217      77 gpu_device.cc:2022] Created device /job:localhost/replica:0/task:0/device:GPU:0 with 15513 MB memory:  -> device: 0, name: Tesla P100-PCIE-16GB, pci bus id: 0000:00:04.0, compute capability: 6.0\n/usr/local/lib/python3.11/dist-packages/keras/src/trainers/data_adapters/py_dataset_adapter.py:121: UserWarning: Your `PyDataset` class should call `super().__init__(**kwargs)` in its constructor. `**kwargs` can include `workers`, `use_multiprocessing`, `max_queue_size`. Do not pass these arguments to `fit()`, as they will be ignored.\n  self._warn_if_super_not_called()\n",
          "output_type": "stream"
        },
        {
          "name": "stdout",
          "text": "Epoch 1/50\n",
          "output_type": "stream"
        },
        {
          "name": "stderr",
          "text": "WARNING: All log messages before absl::InitializeLog() is called are written to STDERR\nI0000 00:00:1747212811.210822     146 service.cc:148] XLA service 0x7ed0c8004ef0 initialized for platform CUDA (this does not guarantee that XLA will be used). Devices:\nI0000 00:00:1747212811.214125     146 service.cc:156]   StreamExecutor device (0): Tesla P100-PCIE-16GB, Compute Capability 6.0\nI0000 00:00:1747212811.759927     146 cuda_dnn.cc:529] Loaded cuDNN version 90300\n",
          "output_type": "stream"
        },
        {
          "name": "stdout",
          "text": "\u001b[1m  3/879\u001b[0m \u001b[37m━━━━━━━━━━━━━━━━━━━━\u001b[0m \u001b[1m1:08\u001b[0m 78ms/step - accuracy: 0.6337 - loss: 2.8690  ",
          "output_type": "stream"
        },
        {
          "name": "stderr",
          "text": "I0000 00:00:1747212816.714139     146 device_compiler.h:188] Compiled cluster using XLA!  This line is logged at most once for the lifetime of the process.\n",
          "output_type": "stream"
        },
        {
          "name": "stdout",
          "text": "\u001b[1m879/879\u001b[0m \u001b[32m━━━━━━━━━━━━━━━━━━━━\u001b[0m\u001b[37m\u001b[0m \u001b[1m168s\u001b[0m 181ms/step - accuracy: 0.7143 - loss: 1.0131 - val_accuracy: 0.7305 - val_loss: 0.5784\nEpoch 2/50\n\u001b[1m879/879\u001b[0m \u001b[32m━━━━━━━━━━━━━━━━━━━━\u001b[0m\u001b[37m\u001b[0m \u001b[1m92s\u001b[0m 104ms/step - accuracy: 0.7380 - loss: 0.5812 - val_accuracy: 0.7305 - val_loss: 0.6341\nEpoch 3/50\n\u001b[1m879/879\u001b[0m \u001b[32m━━━━━━━━━━━━━━━━━━━━\u001b[0m\u001b[37m\u001b[0m \u001b[1m93s\u001b[0m 105ms/step - accuracy: 0.7326 - loss: 0.5811 - val_accuracy: 0.7305 - val_loss: 0.5789\nEpoch 4/50\n\u001b[1m879/879\u001b[0m \u001b[32m━━━━━━━━━━━━━━━━━━━━\u001b[0m\u001b[37m\u001b[0m \u001b[1m92s\u001b[0m 104ms/step - accuracy: 0.7400 - loss: 0.5678 - val_accuracy: 0.7305 - val_loss: 0.5734\nEpoch 5/50\n\u001b[1m879/879\u001b[0m \u001b[32m━━━━━━━━━━━━━━━━━━━━\u001b[0m\u001b[37m\u001b[0m \u001b[1m92s\u001b[0m 104ms/step - accuracy: 0.7354 - loss: 0.5808 - val_accuracy: 0.7305 - val_loss: 0.5787\nEpoch 6/50\n\u001b[1m879/879\u001b[0m \u001b[32m━━━━━━━━━━━━━━━━━━━━\u001b[0m\u001b[37m\u001b[0m \u001b[1m88s\u001b[0m 100ms/step - accuracy: 0.7360 - loss: 0.5770 - val_accuracy: 0.7305 - val_loss: 0.5828\nEpoch 7/50\n\u001b[1m879/879\u001b[0m \u001b[32m━━━━━━━━━━━━━━━━━━━━\u001b[0m\u001b[37m\u001b[0m \u001b[1m87s\u001b[0m 99ms/step - accuracy: 0.7366 - loss: 0.5766 - val_accuracy: 0.7304 - val_loss: 0.5830\nEpoch 8/50\n\u001b[1m879/879\u001b[0m \u001b[32m━━━━━━━━━━━━━━━━━━━━\u001b[0m\u001b[37m\u001b[0m \u001b[1m88s\u001b[0m 100ms/step - accuracy: 0.7415 - loss: 0.5765 - val_accuracy: 0.7304 - val_loss: 0.5828\nEpoch 9/50\n\u001b[1m879/879\u001b[0m \u001b[32m━━━━━━━━━━━━━━━━━━━━\u001b[0m\u001b[37m\u001b[0m \u001b[1m87s\u001b[0m 99ms/step - accuracy: 0.7357 - loss: 0.5776 - val_accuracy: 0.7305 - val_loss: 0.5829\nEpoch 10/50\n\u001b[1m879/879\u001b[0m \u001b[32m━━━━━━━━━━━━━━━━━━━━\u001b[0m\u001b[37m\u001b[0m \u001b[1m89s\u001b[0m 101ms/step - accuracy: 0.7340 - loss: 0.5793 - val_accuracy: 0.7305 - val_loss: 0.6290\nEpoch 11/50\n\u001b[1m879/879\u001b[0m \u001b[32m━━━━━━━━━━━━━━━━━━━━\u001b[0m\u001b[37m\u001b[0m \u001b[1m89s\u001b[0m 101ms/step - accuracy: 0.7311 - loss: 0.5827 - val_accuracy: 0.7305 - val_loss: 0.5829\nEpoch 12/50\n\u001b[1m879/879\u001b[0m \u001b[32m━━━━━━━━━━━━━━━━━━━━\u001b[0m\u001b[37m\u001b[0m \u001b[1m88s\u001b[0m 100ms/step - accuracy: 0.7376 - loss: 0.5756 - val_accuracy: 0.7305 - val_loss: 0.5827\nEpoch 13/50\n\u001b[1m879/879\u001b[0m \u001b[32m━━━━━━━━━━━━━━━━━━━━\u001b[0m\u001b[37m\u001b[0m \u001b[1m87s\u001b[0m 99ms/step - accuracy: 0.7417 - loss: 0.5713 - val_accuracy: 0.7305 - val_loss: 0.5827\nEpoch 14/50\n\u001b[1m879/879\u001b[0m \u001b[32m━━━━━━━━━━━━━━━━━━━━\u001b[0m\u001b[37m\u001b[0m \u001b[1m88s\u001b[0m 100ms/step - accuracy: 0.7369 - loss: 0.5763 - val_accuracy: 0.7305 - val_loss: 0.5827\nEpoch 15/50\n\u001b[1m879/879\u001b[0m \u001b[32m━━━━━━━━━━━━━━━━━━━━\u001b[0m\u001b[37m\u001b[0m \u001b[1m92s\u001b[0m 104ms/step - accuracy: 0.7364 - loss: 0.5768 - val_accuracy: 0.7305 - val_loss: 0.5827\nEpoch 16/50\n\u001b[1m879/879\u001b[0m \u001b[32m━━━━━━━━━━━━━━━━━━━━\u001b[0m\u001b[37m\u001b[0m \u001b[1m90s\u001b[0m 102ms/step - accuracy: 0.7346 - loss: 0.5786 - val_accuracy: 0.7305 - val_loss: 0.5828\nEpoch 17/50\n\u001b[1m879/879\u001b[0m \u001b[32m━━━━━━━━━━━━━━━━━━━━\u001b[0m\u001b[37m\u001b[0m \u001b[1m87s\u001b[0m 99ms/step - accuracy: 0.7327 - loss: 0.5806 - val_accuracy: 0.7305 - val_loss: 0.5828\nEpoch 18/50\n\u001b[1m879/879\u001b[0m \u001b[32m━━━━━━━━━━━━━━━━━━━━\u001b[0m\u001b[37m\u001b[0m \u001b[1m95s\u001b[0m 108ms/step - accuracy: 0.7361 - loss: 0.5771 - val_accuracy: 0.7305 - val_loss: 0.5828\nEpoch 19/50\n\u001b[1m879/879\u001b[0m \u001b[32m━━━━━━━━━━━━━━━━━━━━\u001b[0m\u001b[37m\u001b[0m \u001b[1m86s\u001b[0m 97ms/step - accuracy: 0.7391 - loss: 0.5741 - val_accuracy: 0.7305 - val_loss: 0.5827\nEpoch 20/50\n\u001b[1m879/879\u001b[0m \u001b[32m━━━━━━━━━━━━━━━━━━━━\u001b[0m\u001b[37m\u001b[0m \u001b[1m90s\u001b[0m 103ms/step - accuracy: 0.7362 - loss: 0.5771 - val_accuracy: 0.7305 - val_loss: 0.5828\nEpoch 21/50\n\u001b[1m879/879\u001b[0m \u001b[32m━━━━━━━━━━━━━━━━━━━━\u001b[0m\u001b[37m\u001b[0m \u001b[1m89s\u001b[0m 101ms/step - accuracy: 0.7362 - loss: 0.5770 - val_accuracy: 0.7305 - val_loss: 0.5827\nEpoch 22/50\n\u001b[1m879/879\u001b[0m \u001b[32m━━━━━━━━━━━━━━━━━━━━\u001b[0m\u001b[37m\u001b[0m \u001b[1m92s\u001b[0m 104ms/step - accuracy: 0.7376 - loss: 0.5756 - val_accuracy: 0.7291 - val_loss: 0.5870\nEpoch 23/50\n\u001b[1m879/879\u001b[0m \u001b[32m━━━━━━━━━━━━━━━━━━━━\u001b[0m\u001b[37m\u001b[0m \u001b[1m88s\u001b[0m 100ms/step - accuracy: 0.7370 - loss: 0.5762 - val_accuracy: 0.7305 - val_loss: 0.5828\nEpoch 24/50\n\u001b[1m879/879\u001b[0m \u001b[32m━━━━━━━━━━━━━━━━━━━━\u001b[0m\u001b[37m\u001b[0m \u001b[1m88s\u001b[0m 100ms/step - accuracy: 0.7297 - loss: 0.5843 - val_accuracy: 0.7305 - val_loss: 0.5828\nEpoch 25/50\n\u001b[1m879/879\u001b[0m \u001b[32m━━━━━━━━━━━━━━━━━━━━\u001b[0m\u001b[37m\u001b[0m \u001b[1m92s\u001b[0m 104ms/step - accuracy: 0.7352 - loss: 0.5780 - val_accuracy: 0.7305 - val_loss: 0.5828\nEpoch 26/50\n\u001b[1m879/879\u001b[0m \u001b[32m━━━━━━━━━━━━━━━━━━━━\u001b[0m\u001b[37m\u001b[0m \u001b[1m88s\u001b[0m 100ms/step - accuracy: 0.7383 - loss: 0.5749 - val_accuracy: 0.7305 - val_loss: 0.5828\nEpoch 27/50\n\u001b[1m879/879\u001b[0m \u001b[32m━━━━━━━━━━━━━━━━━━━━\u001b[0m\u001b[37m\u001b[0m \u001b[1m87s\u001b[0m 99ms/step - accuracy: 0.7375 - loss: 0.5757 - val_accuracy: 0.7305 - val_loss: 0.5827\nEpoch 28/50\n\u001b[1m879/879\u001b[0m \u001b[32m━━━━━━━━━━━━━━━━━━━━\u001b[0m\u001b[37m\u001b[0m \u001b[1m93s\u001b[0m 106ms/step - accuracy: 0.7344 - loss: 0.5789 - val_accuracy: 0.7305 - val_loss: 0.5828\nEpoch 29/50\n\u001b[1m879/879\u001b[0m \u001b[32m━━━━━━━━━━━━━━━━━━━━\u001b[0m\u001b[37m\u001b[0m \u001b[1m89s\u001b[0m 101ms/step - accuracy: 0.7377 - loss: 0.5755 - val_accuracy: 0.7305 - val_loss: 0.5828\nEpoch 30/50\n\u001b[1m879/879\u001b[0m \u001b[32m━━━━━━━━━━━━━━━━━━━━\u001b[0m\u001b[37m\u001b[0m \u001b[1m90s\u001b[0m 103ms/step - accuracy: 0.7406 - loss: 0.5725 - val_accuracy: 0.7305 - val_loss: 0.5828\nEpoch 31/50\n\u001b[1m879/879\u001b[0m \u001b[32m━━━━━━━━━━━━━━━━━━━━\u001b[0m\u001b[37m\u001b[0m \u001b[1m85s\u001b[0m 97ms/step - accuracy: 0.7381 - loss: 0.5751 - val_accuracy: 0.7305 - val_loss: 0.5827\nEpoch 32/50\n\u001b[1m879/879\u001b[0m \u001b[32m━━━━━━━━━━━━━━━━━━━━\u001b[0m\u001b[37m\u001b[0m \u001b[1m86s\u001b[0m 98ms/step - accuracy: 0.7349 - loss: 0.5784 - val_accuracy: 0.7305 - val_loss: 0.5828\nEpoch 33/50\n\u001b[1m879/879\u001b[0m \u001b[32m━━━━━━━━━━━━━━━━━━━━\u001b[0m\u001b[37m\u001b[0m \u001b[1m91s\u001b[0m 103ms/step - accuracy: 0.7353 - loss: 0.5780 - val_accuracy: 0.7305 - val_loss: 0.5828\nEpoch 34/50\n\u001b[1m879/879\u001b[0m \u001b[32m━━━━━━━━━━━━━━━━━━━━\u001b[0m\u001b[37m\u001b[0m \u001b[1m85s\u001b[0m 97ms/step - accuracy: 0.7396 - loss: 0.5735 - val_accuracy: 0.7305 - val_loss: 0.5828\nEpoch 35/50\n\u001b[1m879/879\u001b[0m \u001b[32m━━━━━━━━━━━━━━━━━━━━\u001b[0m\u001b[37m\u001b[0m \u001b[1m86s\u001b[0m 98ms/step - accuracy: 0.7370 - loss: 0.5762 - val_accuracy: 0.7305 - val_loss: 0.5828\nEpoch 36/50\n\u001b[1m879/879\u001b[0m \u001b[32m━━━━━━━━━━━━━━━━━━━━\u001b[0m\u001b[37m\u001b[0m \u001b[1m89s\u001b[0m 101ms/step - accuracy: 0.7291 - loss: 0.5842 - val_accuracy: 0.7305 - val_loss: 0.5830\nEpoch 37/50\n\u001b[1m879/879\u001b[0m \u001b[32m━━━━━━━━━━━━━━━━━━━━\u001b[0m\u001b[37m\u001b[0m \u001b[1m84s\u001b[0m 96ms/step - accuracy: 0.7335 - loss: 0.5799 - val_accuracy: 0.7305 - val_loss: 0.5828\nEpoch 38/50\n\u001b[1m879/879\u001b[0m \u001b[32m━━━━━━━━━━━━━━━━━━━━\u001b[0m\u001b[37m\u001b[0m \u001b[1m87s\u001b[0m 99ms/step - accuracy: 0.7333 - loss: 0.5800 - val_accuracy: 0.7305 - val_loss: 0.5828\nEpoch 39/50\n\u001b[1m879/879\u001b[0m \u001b[32m━━━━━━━━━━━━━━━━━━━━\u001b[0m\u001b[37m\u001b[0m \u001b[1m89s\u001b[0m 102ms/step - accuracy: 0.7321 - loss: 0.5812 - val_accuracy: 0.7305 - val_loss: 0.5828\nEpoch 40/50\n\u001b[1m879/879\u001b[0m \u001b[32m━━━━━━━━━━━━━━━━━━━━\u001b[0m\u001b[37m\u001b[0m \u001b[1m87s\u001b[0m 98ms/step - accuracy: 0.7366 - loss: 0.5766 - val_accuracy: 0.7305 - val_loss: 0.5828\nEpoch 41/50\n\u001b[1m879/879\u001b[0m \u001b[32m━━━━━━━━━━━━━━━━━━━━\u001b[0m\u001b[37m\u001b[0m \u001b[1m89s\u001b[0m 101ms/step - accuracy: 0.7386 - loss: 0.5746 - val_accuracy: 0.7305 - val_loss: 0.5828\nEpoch 42/50\n\u001b[1m879/879\u001b[0m \u001b[32m━━━━━━━━━━━━━━━━━━━━\u001b[0m\u001b[37m\u001b[0m \u001b[1m87s\u001b[0m 99ms/step - accuracy: 0.7351 - loss: 0.5781 - val_accuracy: 0.7305 - val_loss: 0.5828\nEpoch 43/50\n\u001b[1m879/879\u001b[0m \u001b[32m━━━━━━━━━━━━━━━━━━━━\u001b[0m\u001b[37m\u001b[0m \u001b[1m87s\u001b[0m 99ms/step - accuracy: 0.7384 - loss: 0.5747 - val_accuracy: 0.7305 - val_loss: 0.5828\nEpoch 44/50\n\u001b[1m879/879\u001b[0m \u001b[32m━━━━━━━━━━━━━━━━━━━━\u001b[0m\u001b[37m\u001b[0m \u001b[1m83s\u001b[0m 95ms/step - accuracy: 0.7386 - loss: 0.5746 - val_accuracy: 0.7305 - val_loss: 0.5827\nEpoch 45/50\n\u001b[1m879/879\u001b[0m \u001b[32m━━━━━━━━━━━━━━━━━━━━\u001b[0m\u001b[37m\u001b[0m \u001b[1m87s\u001b[0m 99ms/step - accuracy: 0.7360 - loss: 0.5773 - val_accuracy: 0.7305 - val_loss: 0.5828\nEpoch 46/50\n\u001b[1m879/879\u001b[0m \u001b[32m━━━━━━━━━━━━━━━━━━━━\u001b[0m\u001b[37m\u001b[0m \u001b[1m87s\u001b[0m 99ms/step - accuracy: 0.7334 - loss: 0.5799 - val_accuracy: 0.7305 - val_loss: 0.5828\nEpoch 47/50\n\u001b[1m879/879\u001b[0m \u001b[32m━━━━━━━━━━━━━━━━━━━━\u001b[0m\u001b[37m\u001b[0m \u001b[1m89s\u001b[0m 101ms/step - accuracy: 0.7340 - loss: 0.5793 - val_accuracy: 0.7305 - val_loss: 0.5828\nEpoch 48/50\n\u001b[1m879/879\u001b[0m \u001b[32m━━━━━━━━━━━━━━━━━━━━\u001b[0m\u001b[37m\u001b[0m \u001b[1m86s\u001b[0m 97ms/step - accuracy: 0.7413 - loss: 0.5718 - val_accuracy: 0.7305 - val_loss: 0.5828\nEpoch 49/50\n\u001b[1m879/879\u001b[0m \u001b[32m━━━━━━━━━━━━━━━━━━━━\u001b[0m\u001b[37m\u001b[0m \u001b[1m87s\u001b[0m 99ms/step - accuracy: 0.7367 - loss: 0.5765 - val_accuracy: 0.7305 - val_loss: 0.5828\nEpoch 50/50\n\u001b[1m879/879\u001b[0m \u001b[32m━━━━━━━━━━━━━━━━━━━━\u001b[0m\u001b[37m\u001b[0m \u001b[1m90s\u001b[0m 103ms/step - accuracy: 0.7390 - loss: 0.5742 - val_accuracy: 0.7305 - val_loss: 0.5828\n",
          "output_type": "stream"
        }
      ],
      "execution_count": null
    },
    {
      "cell_type": "markdown",
      "source": [
        "**第二階段模型（多分類 4 類）**"
      ],
      "metadata": {
        "id": "gI3qROwY8F3j"
      }
    },
    {
      "cell_type": "code",
      "source": [
        "import numpy as np\n",
        "from sklearn.utils.class_weight import compute_class_weight\n",
        "\n",
        "# 從 train generator 取出所有類別標籤\n",
        "y_train_stage2 = train_stage2_gen.classes  # 對應 0 ~ 3 的整數標籤\n",
        "\n",
        "# 類別總數\n",
        "n_classes = np.unique(y_train_stage2)\n",
        "\n",
        "# 計算權重\n",
        "class_weights_array = compute_class_weight(\n",
        "    class_weight='balanced',\n",
        "    classes=n_classes,\n",
        "    y=y_train_stage2\n",
        ")\n",
        "\n",
        "# 轉為 dict 格式\n",
        "class_weights = {i: w for i, w in zip(n_classes, class_weights_array)}\n",
        "print(\"📊 class_weights:\", class_weights)"
      ],
      "metadata": {
        "trusted": true,
        "execution": {
          "iopub.status.busy": "2025-05-14T10:08:29.633333Z",
          "iopub.execute_input": "2025-05-14T10:08:29.633537Z",
          "iopub.status.idle": "2025-05-14T10:08:29.641106Z",
          "shell.execute_reply.started": "2025-05-14T10:08:29.633521Z",
          "shell.execute_reply": "2025-05-14T10:08:29.640554Z"
        },
        "id": "p9toLKoA8F3j",
        "outputId": "a200b35d-608f-4e24-befc-d6d891c3ac35"
      },
      "outputs": [
        {
          "name": "stdout",
          "text": "📊 class_weights: {0: 0.9533248081841432, 1: 0.4401865847897969, 2: 2.6663090128755367, 3: 3.287037037037037}\n",
          "output_type": "stream"
        }
      ],
      "execution_count": null
    },
    {
      "cell_type": "code",
      "source": [
        "model_stage2 = tf.keras.Sequential([\n",
        "    layers.Conv2D(16, (3,3), padding=\"same\", activation='relu', input_shape=(224,224,3)),\n",
        "    layers.MaxPooling2D(pool_size=(2,2)),\n",
        "    layers.BatchNormalization(),\n",
        "\n",
        "    layers.Conv2D(32, (3,3), padding=\"same\", dilation_rate=2, activation='relu'),\n",
        "    layers.MaxPooling2D(pool_size=(2,2)),\n",
        "    layers.BatchNormalization(),\n",
        "\n",
        "    layers.Conv2D(64, (3,3), padding=\"same\", dilation_rate=2, activation='relu'),\n",
        "    layers.MaxPooling2D(pool_size=(2,2)),\n",
        "    layers.BatchNormalization(),\n",
        "\n",
        "    layers.Flatten(),\n",
        "    layers.Dense(64, activation='relu'),\n",
        "    layers.Dropout(0.25),\n",
        "    layers.Dense(4, activation='softmax')\n",
        "])\n",
        "\n",
        "model_stage2.compile(optimizer=tf.keras.optimizers.Adam(learning_rate=1e-5),\n",
        "                     loss='sparse_categorical_crossentropy',\n",
        "                     metrics=['accuracy'])\n",
        "\n",
        "history = model_stage2.fit(\n",
        "    train_stage2_gen,\n",
        "    epochs=100,\n",
        "    validation_data=val_stage2_gen,\n",
        "    class_weight=class_weights\n",
        ")"
      ],
      "metadata": {
        "trusted": true,
        "execution": {
          "iopub.status.busy": "2025-05-14T10:08:29.641651Z",
          "iopub.execute_input": "2025-05-14T10:08:29.641877Z",
          "iopub.status.idle": "2025-05-14T10:37:17.31479Z",
          "shell.execute_reply.started": "2025-05-14T10:08:29.641861Z",
          "shell.execute_reply": "2025-05-14T10:37:17.314114Z"
        },
        "id": "_b8YCwYy8F3j",
        "outputId": "58562c6c-6af8-4fec-baa2-5981a79e8dac"
      },
      "outputs": [
        {
          "name": "stderr",
          "text": "/usr/local/lib/python3.11/dist-packages/keras/src/layers/convolutional/base_conv.py:107: UserWarning: Do not pass an `input_shape`/`input_dim` argument to a layer. When using Sequential models, prefer using an `Input(shape)` object as the first layer in the model instead.\n  super().__init__(activity_regularizer=activity_regularizer, **kwargs)\n/usr/local/lib/python3.11/dist-packages/keras/src/trainers/data_adapters/py_dataset_adapter.py:121: UserWarning: Your `PyDataset` class should call `super().__init__(**kwargs)` in its constructor. `**kwargs` can include `workers`, `use_multiprocessing`, `max_queue_size`. Do not pass these arguments to `fit()`, as they will be ignored.\n  self._warn_if_super_not_called()\n",
          "output_type": "stream"
        },
        {
          "name": "stdout",
          "text": "Epoch 1/100\n\u001b[1m233/233\u001b[0m \u001b[32m━━━━━━━━━━━━━━━━━━━━\u001b[0m\u001b[37m\u001b[0m \u001b[1m29s\u001b[0m 96ms/step - accuracy: 0.2557 - loss: 1.6099 - val_accuracy: 0.0978 - val_loss: 1.5515\nEpoch 2/100\n\u001b[1m233/233\u001b[0m \u001b[32m━━━━━━━━━━━━━━━━━━━━\u001b[0m\u001b[37m\u001b[0m \u001b[1m17s\u001b[0m 74ms/step - accuracy: 0.3178 - loss: 1.3328 - val_accuracy: 0.1838 - val_loss: 1.4345\nEpoch 3/100\n\u001b[1m233/233\u001b[0m \u001b[32m━━━━━━━━━━━━━━━━━━━━\u001b[0m\u001b[37m\u001b[0m \u001b[1m18s\u001b[0m 78ms/step - accuracy: 0.3284 - loss: 1.2900 - val_accuracy: 0.2370 - val_loss: 1.4209\nEpoch 4/100\n\u001b[1m233/233\u001b[0m \u001b[32m━━━━━━━━━━━━━━━━━━━━\u001b[0m\u001b[37m\u001b[0m \u001b[1m17s\u001b[0m 74ms/step - accuracy: 0.3343 - loss: 1.2773 - val_accuracy: 0.2681 - val_loss: 1.3763\nEpoch 5/100\n\u001b[1m233/233\u001b[0m \u001b[32m━━━━━━━━━━━━━━━━━━━━\u001b[0m\u001b[37m\u001b[0m \u001b[1m17s\u001b[0m 73ms/step - accuracy: 0.3226 - loss: 1.2781 - val_accuracy: 0.3579 - val_loss: 1.3326\nEpoch 6/100\n\u001b[1m233/233\u001b[0m \u001b[32m━━━━━━━━━━━━━━━━━━━━\u001b[0m\u001b[37m\u001b[0m \u001b[1m18s\u001b[0m 79ms/step - accuracy: 0.3580 - loss: 1.2393 - val_accuracy: 0.3041 - val_loss: 1.3557\nEpoch 7/100\n\u001b[1m233/233\u001b[0m \u001b[32m━━━━━━━━━━━━━━━━━━━━\u001b[0m\u001b[37m\u001b[0m \u001b[1m17s\u001b[0m 72ms/step - accuracy: 0.3547 - loss: 1.2221 - val_accuracy: 0.3418 - val_loss: 1.3359\nEpoch 8/100\n\u001b[1m233/233\u001b[0m \u001b[32m━━━━━━━━━━━━━━━━━━━━\u001b[0m\u001b[37m\u001b[0m \u001b[1m17s\u001b[0m 74ms/step - accuracy: 0.3924 - loss: 1.1642 - val_accuracy: 0.3181 - val_loss: 1.3634\nEpoch 9/100\n\u001b[1m233/233\u001b[0m \u001b[32m━━━━━━━━━━━━━━━━━━━━\u001b[0m\u001b[37m\u001b[0m \u001b[1m17s\u001b[0m 72ms/step - accuracy: 0.3809 - loss: 1.1577 - val_accuracy: 0.2660 - val_loss: 1.4565\nEpoch 10/100\n\u001b[1m233/233\u001b[0m \u001b[32m━━━━━━━━━━━━━━━━━━━━\u001b[0m\u001b[37m\u001b[0m \u001b[1m17s\u001b[0m 74ms/step - accuracy: 0.3821 - loss: 1.1457 - val_accuracy: 0.3235 - val_loss: 1.3484\nEpoch 11/100\n\u001b[1m233/233\u001b[0m \u001b[32m━━━━━━━━━━━━━━━━━━━━\u001b[0m\u001b[37m\u001b[0m \u001b[1m17s\u001b[0m 73ms/step - accuracy: 0.4024 - loss: 1.1232 - val_accuracy: 0.3133 - val_loss: 1.3392\nEpoch 12/100\n\u001b[1m233/233\u001b[0m \u001b[32m━━━━━━━━━━━━━━━━━━━━\u001b[0m\u001b[37m\u001b[0m \u001b[1m18s\u001b[0m 76ms/step - accuracy: 0.4157 - loss: 1.0963 - val_accuracy: 0.3278 - val_loss: 1.3389\nEpoch 13/100\n\u001b[1m233/233\u001b[0m \u001b[32m━━━━━━━━━━━━━━━━━━━━\u001b[0m\u001b[37m\u001b[0m \u001b[1m17s\u001b[0m 75ms/step - accuracy: 0.4221 - loss: 1.0593 - val_accuracy: 0.3530 - val_loss: 1.3200\nEpoch 14/100\n\u001b[1m233/233\u001b[0m \u001b[32m━━━━━━━━━━━━━━━━━━━━\u001b[0m\u001b[37m\u001b[0m \u001b[1m17s\u001b[0m 72ms/step - accuracy: 0.4400 - loss: 1.0616 - val_accuracy: 0.3622 - val_loss: 1.3114\nEpoch 15/100\n\u001b[1m233/233\u001b[0m \u001b[32m━━━━━━━━━━━━━━━━━━━━\u001b[0m\u001b[37m\u001b[0m \u001b[1m18s\u001b[0m 77ms/step - accuracy: 0.4478 - loss: 1.0402 - val_accuracy: 0.3536 - val_loss: 1.3148\nEpoch 16/100\n\u001b[1m233/233\u001b[0m \u001b[32m━━━━━━━━━━━━━━━━━━━━\u001b[0m\u001b[37m\u001b[0m \u001b[1m17s\u001b[0m 73ms/step - accuracy: 0.4463 - loss: 1.0245 - val_accuracy: 0.3396 - val_loss: 1.3296\nEpoch 17/100\n\u001b[1m233/233\u001b[0m \u001b[32m━━━━━━━━━━━━━━━━━━━━\u001b[0m\u001b[37m\u001b[0m \u001b[1m18s\u001b[0m 76ms/step - accuracy: 0.4701 - loss: 1.0033 - val_accuracy: 0.3407 - val_loss: 1.3255\nEpoch 18/100\n\u001b[1m233/233\u001b[0m \u001b[32m━━━━━━━━━━━━━━━━━━━━\u001b[0m\u001b[37m\u001b[0m \u001b[1m17s\u001b[0m 73ms/step - accuracy: 0.4779 - loss: 1.0087 - val_accuracy: 0.3396 - val_loss: 1.3480\nEpoch 19/100\n\u001b[1m233/233\u001b[0m \u001b[32m━━━━━━━━━━━━━━━━━━━━\u001b[0m\u001b[37m\u001b[0m \u001b[1m17s\u001b[0m 74ms/step - accuracy: 0.4743 - loss: 0.9792 - val_accuracy: 0.3418 - val_loss: 1.3198\nEpoch 20/100\n\u001b[1m233/233\u001b[0m \u001b[32m━━━━━━━━━━━━━━━━━━━━\u001b[0m\u001b[37m\u001b[0m \u001b[1m17s\u001b[0m 74ms/step - accuracy: 0.4890 - loss: 0.9575 - val_accuracy: 0.3498 - val_loss: 1.3176\nEpoch 21/100\n\u001b[1m233/233\u001b[0m \u001b[32m━━━━━━━━━━━━━━━━━━━━\u001b[0m\u001b[37m\u001b[0m \u001b[1m17s\u001b[0m 71ms/step - accuracy: 0.5048 - loss: 0.9392 - val_accuracy: 0.3724 - val_loss: 1.2917\nEpoch 22/100\n\u001b[1m233/233\u001b[0m \u001b[32m━━━━━━━━━━━━━━━━━━━━\u001b[0m\u001b[37m\u001b[0m \u001b[1m17s\u001b[0m 73ms/step - accuracy: 0.5208 - loss: 0.8801 - val_accuracy: 0.3434 - val_loss: 1.3385\nEpoch 23/100\n\u001b[1m233/233\u001b[0m \u001b[32m━━━━━━━━━━━━━━━━━━━━\u001b[0m\u001b[37m\u001b[0m \u001b[1m17s\u001b[0m 73ms/step - accuracy: 0.5214 - loss: 0.8730 - val_accuracy: 0.3375 - val_loss: 1.3674\nEpoch 24/100\n\u001b[1m233/233\u001b[0m \u001b[32m━━━━━━━━━━━━━━━━━━━━\u001b[0m\u001b[37m\u001b[0m \u001b[1m17s\u001b[0m 74ms/step - accuracy: 0.5154 - loss: 0.8954 - val_accuracy: 0.4057 - val_loss: 1.2733\nEpoch 25/100\n\u001b[1m233/233\u001b[0m \u001b[32m━━━━━━━━━━━━━━━━━━━━\u001b[0m\u001b[37m\u001b[0m \u001b[1m17s\u001b[0m 71ms/step - accuracy: 0.5540 - loss: 0.8487 - val_accuracy: 0.3439 - val_loss: 1.3450\nEpoch 26/100\n\u001b[1m233/233\u001b[0m \u001b[32m━━━━━━━━━━━━━━━━━━━━\u001b[0m\u001b[37m\u001b[0m \u001b[1m17s\u001b[0m 72ms/step - accuracy: 0.5599 - loss: 0.8189 - val_accuracy: 0.4116 - val_loss: 1.2345\nEpoch 27/100\n\u001b[1m233/233\u001b[0m \u001b[32m━━━━━━━━━━━━━━━━━━━━\u001b[0m\u001b[37m\u001b[0m \u001b[1m17s\u001b[0m 73ms/step - accuracy: 0.5835 - loss: 0.8002 - val_accuracy: 0.3864 - val_loss: 1.2833\nEpoch 28/100\n\u001b[1m233/233\u001b[0m \u001b[32m━━━━━━━━━━━━━━━━━━━━\u001b[0m\u001b[37m\u001b[0m \u001b[1m17s\u001b[0m 75ms/step - accuracy: 0.5831 - loss: 0.7956 - val_accuracy: 0.3858 - val_loss: 1.2793\nEpoch 29/100\n\u001b[1m233/233\u001b[0m \u001b[32m━━━━━━━━━━━━━━━━━━━━\u001b[0m\u001b[37m\u001b[0m \u001b[1m17s\u001b[0m 74ms/step - accuracy: 0.5820 - loss: 0.7926 - val_accuracy: 0.3896 - val_loss: 1.2850\nEpoch 30/100\n\u001b[1m233/233\u001b[0m \u001b[32m━━━━━━━━━━━━━━━━━━━━\u001b[0m\u001b[37m\u001b[0m \u001b[1m18s\u001b[0m 76ms/step - accuracy: 0.5860 - loss: 0.7683 - val_accuracy: 0.3955 - val_loss: 1.2774\nEpoch 31/100\n\u001b[1m233/233\u001b[0m \u001b[32m━━━━━━━━━━━━━━━━━━━━\u001b[0m\u001b[37m\u001b[0m \u001b[1m17s\u001b[0m 73ms/step - accuracy: 0.6092 - loss: 0.7365 - val_accuracy: 0.3767 - val_loss: 1.3369\nEpoch 32/100\n\u001b[1m233/233\u001b[0m \u001b[32m━━━━━━━━━━━━━━━━━━━━\u001b[0m\u001b[37m\u001b[0m \u001b[1m17s\u001b[0m 74ms/step - accuracy: 0.6049 - loss: 0.7425 - val_accuracy: 0.4299 - val_loss: 1.2347\nEpoch 33/100\n\u001b[1m233/233\u001b[0m \u001b[32m━━━━━━━━━━━━━━━━━━━━\u001b[0m\u001b[37m\u001b[0m \u001b[1m17s\u001b[0m 74ms/step - accuracy: 0.6386 - loss: 0.7144 - val_accuracy: 0.3864 - val_loss: 1.3031\nEpoch 34/100\n\u001b[1m233/233\u001b[0m \u001b[32m━━━━━━━━━━━━━━━━━━━━\u001b[0m\u001b[37m\u001b[0m \u001b[1m17s\u001b[0m 73ms/step - accuracy: 0.6277 - loss: 0.6874 - val_accuracy: 0.4068 - val_loss: 1.2658\nEpoch 35/100\n\u001b[1m233/233\u001b[0m \u001b[32m━━━━━━━━━━━━━━━━━━━━\u001b[0m\u001b[37m\u001b[0m \u001b[1m18s\u001b[0m 75ms/step - accuracy: 0.6415 - loss: 0.6725 - val_accuracy: 0.4068 - val_loss: 1.2595\nEpoch 36/100\n\u001b[1m233/233\u001b[0m \u001b[32m━━━━━━━━━━━━━━━━━━━━\u001b[0m\u001b[37m\u001b[0m \u001b[1m17s\u001b[0m 73ms/step - accuracy: 0.6503 - loss: 0.6640 - val_accuracy: 0.4154 - val_loss: 1.2600\nEpoch 37/100\n\u001b[1m233/233\u001b[0m \u001b[32m━━━━━━━━━━━━━━━━━━━━\u001b[0m\u001b[37m\u001b[0m \u001b[1m17s\u001b[0m 74ms/step - accuracy: 0.6716 - loss: 0.6330 - val_accuracy: 0.4116 - val_loss: 1.2554\nEpoch 38/100\n\u001b[1m233/233\u001b[0m \u001b[32m━━━━━━━━━━━━━━━━━━━━\u001b[0m\u001b[37m\u001b[0m \u001b[1m17s\u001b[0m 74ms/step - accuracy: 0.6606 - loss: 0.6461 - val_accuracy: 0.3992 - val_loss: 1.2476\nEpoch 39/100\n\u001b[1m233/233\u001b[0m \u001b[32m━━━━━━━━━━━━━━━━━━━━\u001b[0m\u001b[37m\u001b[0m \u001b[1m17s\u001b[0m 73ms/step - accuracy: 0.6792 - loss: 0.6157 - val_accuracy: 0.4578 - val_loss: 1.2158\nEpoch 40/100\n\u001b[1m233/233\u001b[0m \u001b[32m━━━━━━━━━━━━━━━━━━━━\u001b[0m\u001b[37m\u001b[0m \u001b[1m17s\u001b[0m 72ms/step - accuracy: 0.7011 - loss: 0.5834 - val_accuracy: 0.3998 - val_loss: 1.2833\nEpoch 41/100\n\u001b[1m233/233\u001b[0m \u001b[32m━━━━━━━━━━━━━━━━━━━━\u001b[0m\u001b[37m\u001b[0m \u001b[1m17s\u001b[0m 73ms/step - accuracy: 0.6968 - loss: 0.5799 - val_accuracy: 0.4218 - val_loss: 1.2596\nEpoch 42/100\n\u001b[1m233/233\u001b[0m \u001b[32m━━━━━━━━━━━━━━━━━━━━\u001b[0m\u001b[37m\u001b[0m \u001b[1m17s\u001b[0m 73ms/step - accuracy: 0.7072 - loss: 0.5568 - val_accuracy: 0.4159 - val_loss: 1.2734\nEpoch 43/100\n\u001b[1m233/233\u001b[0m \u001b[32m━━━━━━━━━━━━━━━━━━━━\u001b[0m\u001b[37m\u001b[0m \u001b[1m17s\u001b[0m 74ms/step - accuracy: 0.7169 - loss: 0.5497 - val_accuracy: 0.4363 - val_loss: 1.2525\nEpoch 44/100\n\u001b[1m233/233\u001b[0m \u001b[32m━━━━━━━━━━━━━━━━━━━━\u001b[0m\u001b[37m\u001b[0m \u001b[1m17s\u001b[0m 72ms/step - accuracy: 0.7208 - loss: 0.5462 - val_accuracy: 0.4417 - val_loss: 1.2453\nEpoch 45/100\n\u001b[1m233/233\u001b[0m \u001b[32m━━━━━━━━━━━━━━━━━━━━\u001b[0m\u001b[37m\u001b[0m \u001b[1m18s\u001b[0m 75ms/step - accuracy: 0.7149 - loss: 0.5358 - val_accuracy: 0.4390 - val_loss: 1.2599\nEpoch 46/100\n\u001b[1m233/233\u001b[0m \u001b[32m━━━━━━━━━━━━━━━━━━━━\u001b[0m\u001b[37m\u001b[0m \u001b[1m17s\u001b[0m 73ms/step - accuracy: 0.7407 - loss: 0.5086 - val_accuracy: 0.4159 - val_loss: 1.2786\nEpoch 47/100\n\u001b[1m233/233\u001b[0m \u001b[32m━━━━━━━━━━━━━━━━━━━━\u001b[0m\u001b[37m\u001b[0m \u001b[1m17s\u001b[0m 74ms/step - accuracy: 0.7578 - loss: 0.4916 - val_accuracy: 0.4288 - val_loss: 1.2503\nEpoch 48/100\n\u001b[1m233/233\u001b[0m \u001b[32m━━━━━━━━━━━━━━━━━━━━\u001b[0m\u001b[37m\u001b[0m \u001b[1m17s\u001b[0m 74ms/step - accuracy: 0.7512 - loss: 0.4769 - val_accuracy: 0.4304 - val_loss: 1.2901\nEpoch 49/100\n\u001b[1m233/233\u001b[0m \u001b[32m━━━━━━━━━━━━━━━━━━━━\u001b[0m\u001b[37m\u001b[0m \u001b[1m17s\u001b[0m 73ms/step - accuracy: 0.7576 - loss: 0.4547 - val_accuracy: 0.4465 - val_loss: 1.2586\nEpoch 50/100\n\u001b[1m233/233\u001b[0m \u001b[32m━━━━━━━━━━━━━━━━━━━━\u001b[0m\u001b[37m\u001b[0m \u001b[1m17s\u001b[0m 74ms/step - accuracy: 0.7810 - loss: 0.4581 - val_accuracy: 0.4691 - val_loss: 1.2405\nEpoch 51/100\n\u001b[1m233/233\u001b[0m \u001b[32m━━━━━━━━━━━━━━━━━━━━\u001b[0m\u001b[37m\u001b[0m \u001b[1m17s\u001b[0m 73ms/step - accuracy: 0.7778 - loss: 0.4507 - val_accuracy: 0.4530 - val_loss: 1.2603\nEpoch 52/100\n\u001b[1m233/233\u001b[0m \u001b[32m━━━━━━━━━━━━━━━━━━━━\u001b[0m\u001b[37m\u001b[0m \u001b[1m18s\u001b[0m 75ms/step - accuracy: 0.7823 - loss: 0.4348 - val_accuracy: 0.4256 - val_loss: 1.2638\nEpoch 53/100\n\u001b[1m233/233\u001b[0m \u001b[32m━━━━━━━━━━━━━━━━━━━━\u001b[0m\u001b[37m\u001b[0m \u001b[1m17s\u001b[0m 73ms/step - accuracy: 0.8027 - loss: 0.4028 - val_accuracy: 0.4519 - val_loss: 1.2492\nEpoch 54/100\n\u001b[1m233/233\u001b[0m \u001b[32m━━━━━━━━━━━━━━━━━━━━\u001b[0m\u001b[37m\u001b[0m \u001b[1m17s\u001b[0m 73ms/step - accuracy: 0.7983 - loss: 0.4056 - val_accuracy: 0.4481 - val_loss: 1.2520\nEpoch 55/100\n\u001b[1m233/233\u001b[0m \u001b[32m━━━━━━━━━━━━━━━━━━━━\u001b[0m\u001b[37m\u001b[0m \u001b[1m17s\u001b[0m 74ms/step - accuracy: 0.8034 - loss: 0.3993 - val_accuracy: 0.4632 - val_loss: 1.2545\nEpoch 56/100\n\u001b[1m233/233\u001b[0m \u001b[32m━━━━━━━━━━━━━━━━━━━━\u001b[0m\u001b[37m\u001b[0m \u001b[1m17s\u001b[0m 73ms/step - accuracy: 0.8147 - loss: 0.3791 - val_accuracy: 0.4589 - val_loss: 1.2529\nEpoch 57/100\n\u001b[1m233/233\u001b[0m \u001b[32m━━━━━━━━━━━━━━━━━━━━\u001b[0m\u001b[37m\u001b[0m \u001b[1m17s\u001b[0m 72ms/step - accuracy: 0.8193 - loss: 0.3698 - val_accuracy: 0.4632 - val_loss: 1.2692\nEpoch 58/100\n\u001b[1m233/233\u001b[0m \u001b[32m━━━━━━━━━━━━━━━━━━━━\u001b[0m\u001b[37m\u001b[0m \u001b[1m17s\u001b[0m 74ms/step - accuracy: 0.8245 - loss: 0.3723 - val_accuracy: 0.4739 - val_loss: 1.2483\nEpoch 59/100\n\u001b[1m233/233\u001b[0m \u001b[32m━━━━━━━━━━━━━━━━━━━━\u001b[0m\u001b[37m\u001b[0m \u001b[1m17s\u001b[0m 73ms/step - accuracy: 0.8402 - loss: 0.3453 - val_accuracy: 0.4723 - val_loss: 1.2419\nEpoch 60/100\n\u001b[1m233/233\u001b[0m \u001b[32m━━━━━━━━━━━━━━━━━━━━\u001b[0m\u001b[37m\u001b[0m \u001b[1m17s\u001b[0m 75ms/step - accuracy: 0.8428 - loss: 0.3352 - val_accuracy: 0.4557 - val_loss: 1.2852\nEpoch 61/100\n\u001b[1m233/233\u001b[0m \u001b[32m━━━━━━━━━━━━━━━━━━━━\u001b[0m\u001b[37m\u001b[0m \u001b[1m17s\u001b[0m 72ms/step - accuracy: 0.8427 - loss: 0.3433 - val_accuracy: 0.4567 - val_loss: 1.2960\nEpoch 62/100\n\u001b[1m233/233\u001b[0m \u001b[32m━━━━━━━━━━━━━━━━━━━━\u001b[0m\u001b[37m\u001b[0m \u001b[1m17s\u001b[0m 73ms/step - accuracy: 0.8448 - loss: 0.3171 - val_accuracy: 0.4605 - val_loss: 1.2684\nEpoch 63/100\n\u001b[1m233/233\u001b[0m \u001b[32m━━━━━━━━━━━━━━━━━━━━\u001b[0m\u001b[37m\u001b[0m \u001b[1m17s\u001b[0m 73ms/step - accuracy: 0.8530 - loss: 0.3107 - val_accuracy: 0.4745 - val_loss: 1.2721\nEpoch 64/100\n\u001b[1m233/233\u001b[0m \u001b[32m━━━━━━━━━━━━━━━━━━━━\u001b[0m\u001b[37m\u001b[0m \u001b[1m17s\u001b[0m 73ms/step - accuracy: 0.8573 - loss: 0.3089 - val_accuracy: 0.4686 - val_loss: 1.2904\nEpoch 65/100\n\u001b[1m233/233\u001b[0m \u001b[32m━━━━━━━━━━━━━━━━━━━━\u001b[0m\u001b[37m\u001b[0m \u001b[1m17s\u001b[0m 75ms/step - accuracy: 0.8712 - loss: 0.2897 - val_accuracy: 0.4713 - val_loss: 1.3080\nEpoch 66/100\n\u001b[1m233/233\u001b[0m \u001b[32m━━━━━━━━━━━━━━━━━━━━\u001b[0m\u001b[37m\u001b[0m \u001b[1m17s\u001b[0m 72ms/step - accuracy: 0.8718 - loss: 0.2927 - val_accuracy: 0.4664 - val_loss: 1.2986\nEpoch 67/100\n\u001b[1m233/233\u001b[0m \u001b[32m━━━━━━━━━━━━━━━━━━━━\u001b[0m\u001b[37m\u001b[0m \u001b[1m17s\u001b[0m 74ms/step - accuracy: 0.8746 - loss: 0.2761 - val_accuracy: 0.4960 - val_loss: 1.2896\nEpoch 68/100\n\u001b[1m233/233\u001b[0m \u001b[32m━━━━━━━━━━━━━━━━━━━━\u001b[0m\u001b[37m\u001b[0m \u001b[1m17s\u001b[0m 74ms/step - accuracy: 0.8932 - loss: 0.2566 - val_accuracy: 0.4901 - val_loss: 1.2942\nEpoch 69/100\n\u001b[1m233/233\u001b[0m \u001b[32m━━━━━━━━━━━━━━━━━━━━\u001b[0m\u001b[37m\u001b[0m \u001b[1m17s\u001b[0m 72ms/step - accuracy: 0.8856 - loss: 0.2607 - val_accuracy: 0.4648 - val_loss: 1.3267\nEpoch 70/100\n\u001b[1m233/233\u001b[0m \u001b[32m━━━━━━━━━━━━━━━━━━━━\u001b[0m\u001b[37m\u001b[0m \u001b[1m17s\u001b[0m 73ms/step - accuracy: 0.8962 - loss: 0.2491 - val_accuracy: 0.4868 - val_loss: 1.2960\nEpoch 71/100\n\u001b[1m233/233\u001b[0m \u001b[32m━━━━━━━━━━━━━━━━━━━━\u001b[0m\u001b[37m\u001b[0m \u001b[1m17s\u001b[0m 72ms/step - accuracy: 0.8987 - loss: 0.2428 - val_accuracy: 0.4933 - val_loss: 1.3098\nEpoch 72/100\n\u001b[1m233/233\u001b[0m \u001b[32m━━━━━━━━━━━━━━━━━━━━\u001b[0m\u001b[37m\u001b[0m \u001b[1m17s\u001b[0m 72ms/step - accuracy: 0.9057 - loss: 0.2353 - val_accuracy: 0.4766 - val_loss: 1.3238\nEpoch 73/100\n\u001b[1m233/233\u001b[0m \u001b[32m━━━━━━━━━━━━━━━━━━━━\u001b[0m\u001b[37m\u001b[0m \u001b[1m17s\u001b[0m 72ms/step - accuracy: 0.9136 - loss: 0.2253 - val_accuracy: 0.4997 - val_loss: 1.3242\nEpoch 74/100\n\u001b[1m233/233\u001b[0m \u001b[32m━━━━━━━━━━━━━━━━━━━━\u001b[0m\u001b[37m\u001b[0m \u001b[1m17s\u001b[0m 73ms/step - accuracy: 0.9152 - loss: 0.2142 - val_accuracy: 0.4922 - val_loss: 1.3463\nEpoch 75/100\n\u001b[1m233/233\u001b[0m \u001b[32m━━━━━━━━━━━━━━━━━━━━\u001b[0m\u001b[37m\u001b[0m \u001b[1m17s\u001b[0m 71ms/step - accuracy: 0.9181 - loss: 0.2134 - val_accuracy: 0.4729 - val_loss: 1.3484\nEpoch 76/100\n\u001b[1m233/233\u001b[0m \u001b[32m━━━━━━━━━━━━━━━━━━━━\u001b[0m\u001b[37m\u001b[0m \u001b[1m17s\u001b[0m 73ms/step - accuracy: 0.9184 - loss: 0.2132 - val_accuracy: 0.4970 - val_loss: 1.3516\nEpoch 77/100\n\u001b[1m233/233\u001b[0m \u001b[32m━━━━━━━━━━━━━━━━━━━━\u001b[0m\u001b[37m\u001b[0m \u001b[1m17s\u001b[0m 73ms/step - accuracy: 0.9252 - loss: 0.1935 - val_accuracy: 0.4895 - val_loss: 1.3573\nEpoch 78/100\n\u001b[1m233/233\u001b[0m \u001b[32m━━━━━━━━━━━━━━━━━━━━\u001b[0m\u001b[37m\u001b[0m \u001b[1m17s\u001b[0m 73ms/step - accuracy: 0.9250 - loss: 0.1955 - val_accuracy: 0.4997 - val_loss: 1.3559\nEpoch 79/100\n\u001b[1m233/233\u001b[0m \u001b[32m━━━━━━━━━━━━━━━━━━━━\u001b[0m\u001b[37m\u001b[0m \u001b[1m17s\u001b[0m 71ms/step - accuracy: 0.9288 - loss: 0.1848 - val_accuracy: 0.4938 - val_loss: 1.3670\nEpoch 80/100\n\u001b[1m233/233\u001b[0m \u001b[32m━━━━━━━━━━━━━━━━━━━━\u001b[0m\u001b[37m\u001b[0m \u001b[1m17s\u001b[0m 75ms/step - accuracy: 0.9329 - loss: 0.1788 - val_accuracy: 0.4831 - val_loss: 1.3849\nEpoch 81/100\n\u001b[1m233/233\u001b[0m \u001b[32m━━━━━━━━━━━━━━━━━━━━\u001b[0m\u001b[37m\u001b[0m \u001b[1m17s\u001b[0m 72ms/step - accuracy: 0.9358 - loss: 0.1769 - val_accuracy: 0.4836 - val_loss: 1.3677\nEpoch 82/100\n\u001b[1m233/233\u001b[0m \u001b[32m━━━━━━━━━━━━━━━━━━━━\u001b[0m\u001b[37m\u001b[0m \u001b[1m17s\u001b[0m 72ms/step - accuracy: 0.9483 - loss: 0.1597 - val_accuracy: 0.4911 - val_loss: 1.3944\nEpoch 83/100\n\u001b[1m233/233\u001b[0m \u001b[32m━━━━━━━━━━━━━━━━━━━━\u001b[0m\u001b[37m\u001b[0m \u001b[1m17s\u001b[0m 73ms/step - accuracy: 0.9487 - loss: 0.1630 - val_accuracy: 0.4911 - val_loss: 1.3885\nEpoch 84/100\n\u001b[1m233/233\u001b[0m \u001b[32m━━━━━━━━━━━━━━━━━━━━\u001b[0m\u001b[37m\u001b[0m \u001b[1m17s\u001b[0m 73ms/step - accuracy: 0.9417 - loss: 0.1530 - val_accuracy: 0.4831 - val_loss: 1.3900\nEpoch 85/100\n\u001b[1m233/233\u001b[0m \u001b[32m━━━━━━━━━━━━━━━━━━━━\u001b[0m\u001b[37m\u001b[0m \u001b[1m17s\u001b[0m 73ms/step - accuracy: 0.9438 - loss: 0.1589 - val_accuracy: 0.4944 - val_loss: 1.3951\nEpoch 86/100\n\u001b[1m233/233\u001b[0m \u001b[32m━━━━━━━━━━━━━━━━━━━━\u001b[0m\u001b[37m\u001b[0m \u001b[1m18s\u001b[0m 78ms/step - accuracy: 0.9509 - loss: 0.1542 - val_accuracy: 0.4911 - val_loss: 1.4100\nEpoch 87/100\n\u001b[1m233/233\u001b[0m \u001b[32m━━━━━━━━━━━━━━━━━━━━\u001b[0m\u001b[37m\u001b[0m \u001b[1m17s\u001b[0m 72ms/step - accuracy: 0.9541 - loss: 0.1425 - val_accuracy: 0.4970 - val_loss: 1.4204\nEpoch 88/100\n\u001b[1m233/233\u001b[0m \u001b[32m━━━━━━━━━━━━━━━━━━━━\u001b[0m\u001b[37m\u001b[0m \u001b[1m17s\u001b[0m 72ms/step - accuracy: 0.9507 - loss: 0.1466 - val_accuracy: 0.5008 - val_loss: 1.4277\nEpoch 89/100\n\u001b[1m233/233\u001b[0m \u001b[32m━━━━━━━━━━━━━━━━━━━━\u001b[0m\u001b[37m\u001b[0m \u001b[1m17s\u001b[0m 73ms/step - accuracy: 0.9539 - loss: 0.1284 - val_accuracy: 0.4788 - val_loss: 1.4536\nEpoch 90/100\n\u001b[1m233/233\u001b[0m \u001b[32m━━━━━━━━━━━━━━━━━━━━\u001b[0m\u001b[37m\u001b[0m \u001b[1m17s\u001b[0m 73ms/step - accuracy: 0.9582 - loss: 0.1252 - val_accuracy: 0.4863 - val_loss: 1.4258\nEpoch 91/100\n\u001b[1m233/233\u001b[0m \u001b[32m━━━━━━━━━━━━━━━━━━━━\u001b[0m\u001b[37m\u001b[0m \u001b[1m19s\u001b[0m 82ms/step - accuracy: 0.9586 - loss: 0.1245 - val_accuracy: 0.4825 - val_loss: 1.4384\nEpoch 92/100\n\u001b[1m233/233\u001b[0m \u001b[32m━━━━━━━━━━━━━━━━━━━━\u001b[0m\u001b[37m\u001b[0m \u001b[1m17s\u001b[0m 74ms/step - accuracy: 0.9659 - loss: 0.1212 - val_accuracy: 0.4960 - val_loss: 1.4419\nEpoch 93/100\n\u001b[1m233/233\u001b[0m \u001b[32m━━━━━━━━━━━━━━━━━━━━\u001b[0m\u001b[37m\u001b[0m \u001b[1m17s\u001b[0m 73ms/step - accuracy: 0.9604 - loss: 0.1201 - val_accuracy: 0.5003 - val_loss: 1.4589\nEpoch 94/100\n\u001b[1m233/233\u001b[0m \u001b[32m━━━━━━━━━━━━━━━━━━━━\u001b[0m\u001b[37m\u001b[0m \u001b[1m17s\u001b[0m 71ms/step - accuracy: 0.9576 - loss: 0.1171 - val_accuracy: 0.4879 - val_loss: 1.4677\nEpoch 95/100\n\u001b[1m233/233\u001b[0m \u001b[32m━━━━━━━━━━━━━━━━━━━━\u001b[0m\u001b[37m\u001b[0m \u001b[1m17s\u001b[0m 72ms/step - accuracy: 0.9653 - loss: 0.1058 - val_accuracy: 0.4879 - val_loss: 1.4903\nEpoch 96/100\n\u001b[1m233/233\u001b[0m \u001b[32m━━━━━━━━━━━━━━━━━━━━\u001b[0m\u001b[37m\u001b[0m \u001b[1m18s\u001b[0m 77ms/step - accuracy: 0.9670 - loss: 0.1067 - val_accuracy: 0.5083 - val_loss: 1.4754\nEpoch 97/100\n\u001b[1m233/233\u001b[0m \u001b[32m━━━━━━━━━━━━━━━━━━━━\u001b[0m\u001b[37m\u001b[0m \u001b[1m17s\u001b[0m 71ms/step - accuracy: 0.9657 - loss: 0.1089 - val_accuracy: 0.5073 - val_loss: 1.4937\nEpoch 98/100\n\u001b[1m233/233\u001b[0m \u001b[32m━━━━━━━━━━━━━━━━━━━━\u001b[0m\u001b[37m\u001b[0m \u001b[1m17s\u001b[0m 72ms/step - accuracy: 0.9686 - loss: 0.1047 - val_accuracy: 0.4970 - val_loss: 1.4961\nEpoch 99/100\n\u001b[1m233/233\u001b[0m \u001b[32m━━━━━━━━━━━━━━━━━━━━\u001b[0m\u001b[37m\u001b[0m \u001b[1m17s\u001b[0m 75ms/step - accuracy: 0.9703 - loss: 0.0949 - val_accuracy: 0.4949 - val_loss: 1.5150\nEpoch 100/100\n\u001b[1m233/233\u001b[0m \u001b[32m━━━━━━━━━━━━━━━━━━━━\u001b[0m\u001b[37m\u001b[0m \u001b[1m17s\u001b[0m 73ms/step - accuracy: 0.9700 - loss: 0.1022 - val_accuracy: 0.5159 - val_loss: 1.5188\n",
          "output_type": "stream"
        }
      ],
      "execution_count": null
    },
    {
      "cell_type": "code",
      "source": [
        "# Plot Training & Validation Accuracy\n",
        "plt.figure(figsize=(12, 4))\n",
        "\n",
        "plt.subplot(1, 2, 1)\n",
        "plt.plot(history.history['accuracy'], label='Training Accuracy')\n",
        "plt.plot(history.history['val_accuracy'], label='Validation Accuracy')\n",
        "plt.xlabel('Epochs')\n",
        "plt.ylabel('Accuracy')\n",
        "plt.legend()\n",
        "plt.title('Training & Validation Accuracy')\n",
        "\n",
        "# Plot Training & Validation Loss\n",
        "plt.subplot(1, 2, 2)\n",
        "plt.plot(history.history['loss'], label='Training Loss')\n",
        "plt.plot(history.history['val_loss'], label='Validation Loss')\n",
        "plt.xlabel('Epochs')\n",
        "plt.ylabel('Loss')\n",
        "plt.legend()\n",
        "plt.title('Training & Validation Loss')\n",
        "\n",
        "plt.show()"
      ],
      "metadata": {
        "trusted": true,
        "execution": {
          "iopub.status.busy": "2025-05-14T19:47:52.132409Z",
          "iopub.execute_input": "2025-05-14T19:47:52.13268Z",
          "iopub.status.idle": "2025-05-14T19:47:52.142087Z",
          "shell.execute_reply.started": "2025-05-14T19:47:52.132658Z",
          "shell.execute_reply": "2025-05-14T19:47:52.141162Z"
        },
        "id": "k4eFhsOZ8F3k",
        "outputId": "52cc2a92-9407-4cfb-ab9e-251208e47e39"
      },
      "outputs": [
        {
          "traceback": [
            "\u001b[0;31m---------------------------------------------------------------------------\u001b[0m",
            "\u001b[0;31mNameError\u001b[0m                                 Traceback (most recent call last)",
            "\u001b[0;32m/tmp/ipykernel_35/697578198.py\u001b[0m in \u001b[0;36m<cell line: 0>\u001b[0;34m()\u001b[0m\n\u001b[1;32m      1\u001b[0m \u001b[0;31m# Plot Training & Validation Accuracy\u001b[0m\u001b[0;34m\u001b[0m\u001b[0;34m\u001b[0m\u001b[0m\n\u001b[0;32m----> 2\u001b[0;31m \u001b[0mplt\u001b[0m\u001b[0;34m.\u001b[0m\u001b[0mfigure\u001b[0m\u001b[0;34m(\u001b[0m\u001b[0mfigsize\u001b[0m\u001b[0;34m=\u001b[0m\u001b[0;34m(\u001b[0m\u001b[0;36m12\u001b[0m\u001b[0;34m,\u001b[0m \u001b[0;36m4\u001b[0m\u001b[0;34m)\u001b[0m\u001b[0;34m)\u001b[0m\u001b[0;34m\u001b[0m\u001b[0;34m\u001b[0m\u001b[0m\n\u001b[0m\u001b[1;32m      3\u001b[0m \u001b[0;34m\u001b[0m\u001b[0m\n\u001b[1;32m      4\u001b[0m \u001b[0mplt\u001b[0m\u001b[0;34m.\u001b[0m\u001b[0msubplot\u001b[0m\u001b[0;34m(\u001b[0m\u001b[0;36m1\u001b[0m\u001b[0;34m,\u001b[0m \u001b[0;36m2\u001b[0m\u001b[0;34m,\u001b[0m \u001b[0;36m1\u001b[0m\u001b[0;34m)\u001b[0m\u001b[0;34m\u001b[0m\u001b[0;34m\u001b[0m\u001b[0m\n\u001b[1;32m      5\u001b[0m \u001b[0mplt\u001b[0m\u001b[0;34m.\u001b[0m\u001b[0mplot\u001b[0m\u001b[0;34m(\u001b[0m\u001b[0mhistory\u001b[0m\u001b[0;34m.\u001b[0m\u001b[0mhistory\u001b[0m\u001b[0;34m[\u001b[0m\u001b[0;34m'accuracy'\u001b[0m\u001b[0;34m]\u001b[0m\u001b[0;34m,\u001b[0m \u001b[0mlabel\u001b[0m\u001b[0;34m=\u001b[0m\u001b[0;34m'Training Accuracy'\u001b[0m\u001b[0;34m)\u001b[0m\u001b[0;34m\u001b[0m\u001b[0;34m\u001b[0m\u001b[0m\n",
            "\u001b[0;31mNameError\u001b[0m: name 'plt' is not defined"
          ],
          "ename": "NameError",
          "evalue": "name 'plt' is not defined",
          "output_type": "error"
        }
      ],
      "execution_count": null
    },
    {
      "cell_type": "code",
      "source": [
        "# loss, acc = model_stage2.evaluate(test_batches, verbose=1)\n",
        "# # print(\"Loss: \", loss)\n",
        "# print(\"Accuracy: \", acc)"
      ],
      "metadata": {
        "trusted": true,
        "execution": {
          "iopub.status.busy": "2025-05-14T10:37:17.316818Z",
          "iopub.execute_input": "2025-05-14T10:37:17.317238Z",
          "iopub.status.idle": "2025-05-14T10:37:17.321449Z",
          "shell.execute_reply.started": "2025-05-14T10:37:17.317216Z",
          "shell.execute_reply": "2025-05-14T10:37:17.32073Z"
        },
        "id": "KiSfJQ428F3k"
      },
      "outputs": [],
      "execution_count": null
    },
    {
      "cell_type": "markdown",
      "source": [
        "**預測階段邏輯**\n",
        "\n",
        "當要預測一張新圖：\n",
        "1. 用 model_stage1 判斷是否為 DR。\n",
        "2. 若是 DR，再用 model_stage2 預測 1~4 的等級。"
      ],
      "metadata": {
        "id": "rTW_w0en8F3k"
      }
    },
    {
      "cell_type": "code",
      "source": [
        "def predict_image(image_path, model_stage1, model_stage2):\n",
        "    # 你的預測邏輯寫在這裡，例如：\n",
        "\n",
        "    import cv2\n",
        "    import numpy as np\n",
        "\n",
        "    # 預處理圖片\n",
        "    img = cv2.imread(image_path)\n",
        "    img = cv2.cvtColor(img, cv2.COLOR_BGR2RGB)\n",
        "    img = cv2.resize(img, (224, 224))\n",
        "    img = img / 255.0\n",
        "    img = np.expand_dims(img, axis=0)\n",
        "\n",
        "    # Stage 1 預測：判斷是否有 DR\n",
        "    pred_stage1 = model_stage1.predict(img)\n",
        "    has_dr = np.argmax(pred_stage1) != 0  # 或 prob > 0.5（看你的設計）\n",
        "\n",
        "    if not has_dr:\n",
        "        return 'DR Level: 0 (No_DR)'\n",
        "\n",
        "    # Stage 2 預測：多分類 1~4 等級\n",
        "    pred_stage2 = model_stage2.predict(img)\n",
        "    stage2_class = np.argmax(pred_stage2) + 1  # 因為你訓練時是 0~3 → 要 +1\n",
        "\n",
        "    return f'DR Level: {stage2_class}'"
      ],
      "metadata": {
        "trusted": true,
        "execution": {
          "iopub.status.busy": "2025-05-14T10:37:17.322177Z",
          "iopub.execute_input": "2025-05-14T10:37:17.322368Z",
          "iopub.status.idle": "2025-05-14T10:37:17.342755Z",
          "shell.execute_reply.started": "2025-05-14T10:37:17.322353Z",
          "shell.execute_reply": "2025-05-14T10:37:17.34209Z"
        },
        "id": "joSSOMs88F3k"
      },
      "outputs": [],
      "execution_count": null
    },
    {
      "cell_type": "code",
      "source": [
        "predict_image('../input/diabetic-retinopathy-2015-data-colored-resized/colored_images/colored_images/Proliferate_DR/10321_left.png', model_stage1, model_stage2)"
      ],
      "metadata": {
        "trusted": true,
        "execution": {
          "iopub.status.busy": "2025-05-14T10:37:17.343581Z",
          "iopub.execute_input": "2025-05-14T10:37:17.343834Z",
          "iopub.status.idle": "2025-05-14T10:37:18.243421Z",
          "shell.execute_reply.started": "2025-05-14T10:37:17.343816Z",
          "shell.execute_reply": "2025-05-14T10:37:18.242746Z"
        },
        "id": "Rx2KvfGV8F3k",
        "outputId": "401af16a-66ec-4543-b368-c2d537d441b3"
      },
      "outputs": [
        {
          "name": "stdout",
          "text": "\u001b[1m1/1\u001b[0m \u001b[32m━━━━━━━━━━━━━━━━━━━━\u001b[0m\u001b[37m\u001b[0m \u001b[1m1s\u001b[0m 715ms/step\n",
          "output_type": "stream"
        },
        {
          "execution_count": 20,
          "output_type": "execute_result",
          "data": {
            "text/plain": "'DR Level: 0 (No_DR)'"
          },
          "metadata": {}
        }
      ],
      "execution_count": null
    }
  ]
}